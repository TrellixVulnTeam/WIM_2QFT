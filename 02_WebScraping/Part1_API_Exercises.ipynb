{
 "cells": [
  {
   "cell_type": "markdown",
   "metadata": {},
   "source": [
    "## WIM Python API-Webscraping workshop: 2020-09-18\n",
    "### Helge Marahrens (hmarahre@iu.edu) & Anne Kavalerchik\n",
    "### Part 1: ProPublica API\n",
    "https://www.propublica.org/datastore/api/propublica-congress-api"
   ]
  },
  {
   "cell_type": "markdown",
   "metadata": {},
   "source": [
    "#### What you need:\n",
    "* Python\n",
    "    * required: requests, json\n",
    "    * optional: pandas, pickle"
   ]
  },
  {
   "cell_type": "code",
   "execution_count": null,
   "metadata": {},
   "outputs": [],
   "source": [
    "# packages you need to install\n",
    "\n",
    "\n",
    "# packages that come with Python\n"
   ]
  },
  {
   "cell_type": "markdown",
   "metadata": {},
   "source": [
    "* a Developer account/API key\n",
    "    * I saved my API key in a .txt document\n",
    "    * do not share you API key with anyone (i.e., treat it like a password)"
   ]
  },
  {
   "cell_type": "code",
   "execution_count": null,
   "metadata": {},
   "outputs": [],
   "source": [
    "local_file = 'congress_auth.txt'\n",
    "with open(local_file, \"r\") as txtfile:\n",
    "    content = txtfile.readline().strip('\\n')\n",
    "credentials = {'X-API-Key':content}"
   ]
  },
  {
   "cell_type": "code",
   "execution_count": null,
   "metadata": {},
   "outputs": [],
   "source": [
    "credentials = {'X-API-Key':'asdj423948239wfwdsld3445'} <- not my real API key (I just slammed my keyboard)"
   ]
  },
  {
   "cell_type": "markdown",
   "metadata": {},
   "source": [
    "#### pseudoscript\n",
    "1. read API documentation\n",
    "<br> check the API limit\n",
    "2. import packages\n",
    "3. authentication\n",
    "4. build get request\n",
    "5. send get request – check server response\n",
    "<br><font color=green>200 – OK</font>\n",
    "<br><font color=orange>404 – data not found</font>\n",
    "<br><font color=red>401 – unauthorized</font>\n",
    "<br><font color=red>429 – too many requests</font>\n",
    "6. explore data structures\n",
    "<br> lists, dictionaries\n",
    "7. save data\n",
    "<br> e.g. csv"
   ]
  },
  {
   "cell_type": "markdown",
   "metadata": {},
   "source": [
    "#### 1. read API documentation\n",
    "https://www.propublica.org/datastore/api/propublica-congress-api  <br>\n",
    "\"Usage is limited to 5000 requests per day (rate limits are subject to change).\"\n",
    "\n",
    "see above for: <br>\n",
    "2. import packages <br>\n",
    "3. authentication key"
   ]
  },
  {
   "cell_type": "markdown",
   "metadata": {},
   "source": [
    "#### 4. build get request"
   ]
  },
  {
   "cell_type": "code",
   "execution_count": null,
   "metadata": {},
   "outputs": [],
   "source": [
    "host = \"https://api.propublica.org/congress/v1/116\"\n",
    "chamber = \"/house\"\n",
    "data_section = \"/members.json\"\n",
    "print(host + chamber + data_section)"
   ]
  },
  {
   "cell_type": "markdown",
   "metadata": {},
   "source": [
    "#### 5. send get request – check server response"
   ]
  },
  {
   "cell_type": "code",
   "execution_count": null,
   "metadata": {},
   "outputs": [],
   "source": []
  },
  {
   "cell_type": "code",
   "execution_count": null,
   "metadata": {},
   "outputs": [],
   "source": []
  },
  {
   "cell_type": "code",
   "execution_count": null,
   "metadata": {},
   "outputs": [],
   "source": []
  },
  {
   "cell_type": "markdown",
   "metadata": {},
   "source": [
    "#### 6. explore data structures"
   ]
  },
  {
   "cell_type": "code",
   "execution_count": null,
   "metadata": {},
   "outputs": [],
   "source": []
  },
  {
   "cell_type": "code",
   "execution_count": null,
   "metadata": {},
   "outputs": [],
   "source": []
  },
  {
   "cell_type": "code",
   "execution_count": null,
   "metadata": {},
   "outputs": [],
   "source": []
  },
  {
   "cell_type": "code",
   "execution_count": null,
   "metadata": {},
   "outputs": [],
   "source": []
  },
  {
   "cell_type": "code",
   "execution_count": null,
   "metadata": {},
   "outputs": [],
   "source": []
  },
  {
   "cell_type": "code",
   "execution_count": null,
   "metadata": {},
   "outputs": [],
   "source": []
  },
  {
   "cell_type": "code",
   "execution_count": null,
   "metadata": {},
   "outputs": [],
   "source": []
  },
  {
   "cell_type": "code",
   "execution_count": null,
   "metadata": {},
   "outputs": [],
   "source": []
  },
  {
   "cell_type": "code",
   "execution_count": null,
   "metadata": {},
   "outputs": [],
   "source": [
    "print(json.dumps(members['results'][0]['members'][0],\\\n",
    "                 indent=4, sort_keys=True))"
   ]
  },
  {
   "cell_type": "markdown",
   "metadata": {},
   "source": [
    "#### 7. save data"
   ]
  },
  {
   "cell_type": "code",
   "execution_count": null,
   "metadata": {},
   "outputs": [],
   "source": []
  },
  {
   "cell_type": "code",
   "execution_count": null,
   "metadata": {},
   "outputs": [],
   "source": []
  },
  {
   "cell_type": "code",
   "execution_count": null,
   "metadata": {},
   "outputs": [],
   "source": []
  },
  {
   "cell_type": "markdown",
   "metadata": {},
   "source": [
    "#### health bills"
   ]
  },
  {
   "cell_type": "code",
   "execution_count": null,
   "metadata": {},
   "outputs": [],
   "source": [
    "bills_100 = defaultdict()\n",
    "host =\\\n",
    " \"https://api.propublica.org/congress/v1/bills/subjects/health.json?offset=\""
   ]
  },
  {
   "cell_type": "code",
   "execution_count": null,
   "metadata": {},
   "outputs": [],
   "source": []
  },
  {
   "cell_type": "code",
   "execution_count": null,
   "metadata": {},
   "outputs": [],
   "source": []
  },
  {
   "cell_type": "code",
   "execution_count": null,
   "metadata": {},
   "outputs": [],
   "source": [
    "with open(\"ProPublica_Members-Bills.pkl\", \"wb\") as file:\n",
    "    pickle.dump(bills_100, file)"
   ]
  }
 ],
 "metadata": {
  "kernelspec": {
   "display_name": "Python 3",
   "language": "python",
   "name": "python3"
  },
  "language_info": {
   "codemirror_mode": {
    "name": "ipython",
    "version": 3
   },
   "file_extension": ".py",
   "mimetype": "text/x-python",
   "name": "python",
   "nbconvert_exporter": "python",
   "pygments_lexer": "ipython3",
   "version": "3.6.5"
  }
 },
 "nbformat": 4,
 "nbformat_minor": 2
}
