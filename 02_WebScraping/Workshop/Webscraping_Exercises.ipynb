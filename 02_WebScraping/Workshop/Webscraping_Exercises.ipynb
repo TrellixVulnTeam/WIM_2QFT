{
 "cells": [
  {
   "cell_type": "markdown",
   "metadata": {},
   "source": [
    "# Part 2: Web scraping HTML\n",
    "Here we will learn how to download and parse HTML.\n",
    "We will use [this helpful website](http://toscrape.com/)"
   ]
  },
  {
   "cell_type": "markdown",
   "metadata": {},
   "source": [
    "First we will import the packages we need:"
   ]
  },
  {
   "cell_type": "code",
   "execution_count": 2,
   "metadata": {},
   "outputs": [],
   "source": [
    "import os\n",
    "import json\n",
    "import requests\n",
    "import time\n",
    "import pandas as pd\n",
    "from bs4 import BeautifulSoup as bs"
   ]
  },
  {
   "cell_type": "markdown",
   "metadata": {},
   "source": [
    "Now we will get the HTML of a URL we need: [http://quotes.toscrape.com/](http://quotes.toscrape.com/).\n",
    "\n",
    "It's a website with quotations, the people they are attributed to, and the short biographies of those people.\n",
    "\n",
    "We will use the python `requests` library to send HTTP requests."
   ]
  },
  {
   "cell_type": "code",
   "execution_count": 4,
   "metadata": {},
   "outputs": [
    {
     "data": {
      "text/plain": [
       "<Response [200]>"
      ]
     },
     "execution_count": 4,
     "metadata": {},
     "output_type": "execute_result"
    }
   ],
   "source": [
    "url = \"http://quotes.toscrape.com/\"\n",
    "response = requests.get(url)\n",
    "response"
   ]
  },
  {
   "cell_type": "markdown",
   "metadata": {},
   "source": [
    "`<Response [200]>` means that our request was successful.\n",
    "Usually what we want is the text from a website.\n",
    "Let's get the text and print it. [Compare it to the source code of the actual webpage](view-source:http://quotes.toscrape.com/)"
   ]
  },
  {
   "cell_type": "code",
   "execution_count": null,
   "metadata": {},
   "outputs": [],
   "source": []
  },
  {
   "cell_type": "markdown",
   "metadata": {},
   "source": [
    "We could use a combination of regular expressions, string matching, and loops to navigate the html, but luckily the Beautiful Soup package makes it much easier. [BeautifulSoup documentation is here](https://www.crummy.com/software/BeautifulSoup/bs4/doc/)."
   ]
  },
  {
   "cell_type": "code",
   "execution_count": null,
   "metadata": {},
   "outputs": [],
   "source": []
  },
  {
   "cell_type": "markdown",
   "metadata": {},
   "source": [
    "There are several ways to navigate this. \n",
    "First start by navigating it using __tag names__.\n",
    "This returns the first element with that tag name."
   ]
  },
  {
   "cell_type": "code",
   "execution_count": null,
   "metadata": {},
   "outputs": [],
   "source": []
  },
  {
   "cell_type": "markdown",
   "metadata": {},
   "source": [
    "What kinds of data structures are these returning?"
   ]
  },
  {
   "cell_type": "code",
   "execution_count": 32,
   "metadata": {},
   "outputs": [
    {
     "name": "stdout",
     "output_type": "stream",
     "text": [
      "<class 'bs4.BeautifulSoup'>\n",
      "<class 'bs4.element.Tag'>\n",
      "<class 'bs4.element.Tag'>\n"
     ]
    },
    {
     "data": {
      "text/plain": [
       "<h1>\n",
       "<a href=\"/\" style=\"text-decoration: none\">Quotes to Scrape</a>\n",
       "</h1>"
      ]
     },
     "execution_count": 32,
     "metadata": {},
     "output_type": "execute_result"
    }
   ],
   "source": []
  },
  {
   "cell_type": "markdown",
   "metadata": {},
   "source": [
    "We can actually treat bs4.element.Tag as BeautifulSoup and navigate those the same way.\n",
    "Try to get to the tag "
   ]
  },
  {
   "cell_type": "code",
   "execution_count": 39,
   "metadata": {},
   "outputs": [
    {
     "name": "stdout",
     "output_type": "stream",
     "text": [
      "<div class=\"col-md-8\">\n",
      "<h1>\n",
      "<a href=\"/\" style=\"text-decoration: none\">Quotes to Scrape</a>\n",
      "</h1>\n",
      "</div>\n"
     ]
    }
   ],
   "source": []
  },
  {
   "cell_type": "code",
   "execution_count": 40,
   "metadata": {
    "collapsed": true
   },
   "outputs": [
    {
     "name": "stdout",
     "output_type": "stream",
     "text": [
      "<div class=\"container\">\n",
      "<div class=\"row header-box\">\n",
      "<div class=\"col-md-8\">\n",
      "<h1>\n",
      "<a href=\"/\" style=\"text-decoration: none\">Quotes to Scrape</a>\n",
      "</h1>\n",
      "</div>\n",
      "<div class=\"col-md-4\">\n",
      "<p>\n",
      "<a href=\"/login\">Login</a>\n",
      "</p>\n",
      "</div>\n",
      "</div>\n",
      "<div class=\"row\">\n",
      "<div class=\"col-md-8\">\n",
      "<div class=\"quote\" itemscope=\"\" itemtype=\"http://schema.org/CreativeWork\">\n",
      "<span class=\"text\" itemprop=\"text\">“The world as we have created it is a process of our thinking. It cannot be changed without changing our thinking.”</span>\n",
      "<span>by <small class=\"author\" itemprop=\"author\">Albert Einstein</small>\n",
      "<a href=\"/author/Albert-Einstein\">(about)</a>\n",
      "</span>\n",
      "<div class=\"tags\">\n",
      "            Tags:\n",
      "            <meta class=\"keywords\" content=\"change,deep-thoughts,thinking,world\" itemprop=\"keywords\"/>\n",
      "<a class=\"tag\" href=\"/tag/change/page/1/\">change</a>\n",
      "<a class=\"tag\" href=\"/tag/deep-thoughts/page/1/\">deep-thoughts</a>\n",
      "<a class=\"tag\" href=\"/tag/thinking/page/1/\">thinking</a>\n",
      "<a class=\"tag\" href=\"/tag/world/page/1/\">world</a>\n",
      "</div>\n",
      "</div>\n",
      "<div class=\"quote\" itemscope=\"\" itemtype=\"http://schema.org/CreativeWork\">\n",
      "<span class=\"text\" itemprop=\"text\">“It is our choices, Harry, that show what we truly are, far more than our abilities.”</span>\n",
      "<span>by <small class=\"author\" itemprop=\"author\">J.K. Rowling</small>\n",
      "<a href=\"/author/J-K-Rowling\">(about)</a>\n",
      "</span>\n",
      "<div class=\"tags\">\n",
      "            Tags:\n",
      "            <meta class=\"keywords\" content=\"abilities,choices\" itemprop=\"keywords\"/>\n",
      "<a class=\"tag\" href=\"/tag/abilities/page/1/\">abilities</a>\n",
      "<a class=\"tag\" href=\"/tag/choices/page/1/\">choices</a>\n",
      "</div>\n",
      "</div>\n",
      "<div class=\"quote\" itemscope=\"\" itemtype=\"http://schema.org/CreativeWork\">\n",
      "<span class=\"text\" itemprop=\"text\">“There are only two ways to live your life. One is as though nothing is a miracle. The other is as though everything is a miracle.”</span>\n",
      "<span>by <small class=\"author\" itemprop=\"author\">Albert Einstein</small>\n",
      "<a href=\"/author/Albert-Einstein\">(about)</a>\n",
      "</span>\n",
      "<div class=\"tags\">\n",
      "            Tags:\n",
      "            <meta class=\"keywords\" content=\"inspirational,life,live,miracle,miracles\" itemprop=\"keywords\"/>\n",
      "<a class=\"tag\" href=\"/tag/inspirational/page/1/\">inspirational</a>\n",
      "<a class=\"tag\" href=\"/tag/life/page/1/\">life</a>\n",
      "<a class=\"tag\" href=\"/tag/live/page/1/\">live</a>\n",
      "<a class=\"tag\" href=\"/tag/miracle/page/1/\">miracle</a>\n",
      "<a class=\"tag\" href=\"/tag/miracles/page/1/\">miracles</a>\n",
      "</div>\n",
      "</div>\n",
      "<div class=\"quote\" itemscope=\"\" itemtype=\"http://schema.org/CreativeWork\">\n",
      "<span class=\"text\" itemprop=\"text\">“The person, be it gentleman or lady, who has not pleasure in a good novel, must be intolerably stupid.”</span>\n",
      "<span>by <small class=\"author\" itemprop=\"author\">Jane Austen</small>\n",
      "<a href=\"/author/Jane-Austen\">(about)</a>\n",
      "</span>\n",
      "<div class=\"tags\">\n",
      "            Tags:\n",
      "            <meta class=\"keywords\" content=\"aliteracy,books,classic,humor\" itemprop=\"keywords\"/>\n",
      "<a class=\"tag\" href=\"/tag/aliteracy/page/1/\">aliteracy</a>\n",
      "<a class=\"tag\" href=\"/tag/books/page/1/\">books</a>\n",
      "<a class=\"tag\" href=\"/tag/classic/page/1/\">classic</a>\n",
      "<a class=\"tag\" href=\"/tag/humor/page/1/\">humor</a>\n",
      "</div>\n",
      "</div>\n",
      "<div class=\"quote\" itemscope=\"\" itemtype=\"http://schema.org/CreativeWork\">\n",
      "<span class=\"text\" itemprop=\"text\">“Imperfection is beauty, madness is genius and it's better to be absolutely ridiculous than absolutely boring.”</span>\n",
      "<span>by <small class=\"author\" itemprop=\"author\">Marilyn Monroe</small>\n",
      "<a href=\"/author/Marilyn-Monroe\">(about)</a>\n",
      "</span>\n",
      "<div class=\"tags\">\n",
      "            Tags:\n",
      "            <meta class=\"keywords\" content=\"be-yourself,inspirational\" itemprop=\"keywords\"/>\n",
      "<a class=\"tag\" href=\"/tag/be-yourself/page/1/\">be-yourself</a>\n",
      "<a class=\"tag\" href=\"/tag/inspirational/page/1/\">inspirational</a>\n",
      "</div>\n",
      "</div>\n",
      "<div class=\"quote\" itemscope=\"\" itemtype=\"http://schema.org/CreativeWork\">\n",
      "<span class=\"text\" itemprop=\"text\">“Try not to become a man of success. Rather become a man of value.”</span>\n",
      "<span>by <small class=\"author\" itemprop=\"author\">Albert Einstein</small>\n",
      "<a href=\"/author/Albert-Einstein\">(about)</a>\n",
      "</span>\n",
      "<div class=\"tags\">\n",
      "            Tags:\n",
      "            <meta class=\"keywords\" content=\"adulthood,success,value\" itemprop=\"keywords\"/>\n",
      "<a class=\"tag\" href=\"/tag/adulthood/page/1/\">adulthood</a>\n",
      "<a class=\"tag\" href=\"/tag/success/page/1/\">success</a>\n",
      "<a class=\"tag\" href=\"/tag/value/page/1/\">value</a>\n",
      "</div>\n",
      "</div>\n",
      "<div class=\"quote\" itemscope=\"\" itemtype=\"http://schema.org/CreativeWork\">\n",
      "<span class=\"text\" itemprop=\"text\">“It is better to be hated for what you are than to be loved for what you are not.”</span>\n",
      "<span>by <small class=\"author\" itemprop=\"author\">André Gide</small>\n",
      "<a href=\"/author/Andre-Gide\">(about)</a>\n",
      "</span>\n",
      "<div class=\"tags\">\n",
      "            Tags:\n",
      "            <meta class=\"keywords\" content=\"life,love\" itemprop=\"keywords\"/>\n",
      "<a class=\"tag\" href=\"/tag/life/page/1/\">life</a>\n",
      "<a class=\"tag\" href=\"/tag/love/page/1/\">love</a>\n",
      "</div>\n",
      "</div>\n",
      "<div class=\"quote\" itemscope=\"\" itemtype=\"http://schema.org/CreativeWork\">\n",
      "<span class=\"text\" itemprop=\"text\">“I have not failed. I've just found 10,000 ways that won't work.”</span>\n",
      "<span>by <small class=\"author\" itemprop=\"author\">Thomas A. Edison</small>\n",
      "<a href=\"/author/Thomas-A-Edison\">(about)</a>\n",
      "</span>\n",
      "<div class=\"tags\">\n",
      "            Tags:\n",
      "            <meta class=\"keywords\" content=\"edison,failure,inspirational,paraphrased\" itemprop=\"keywords\"/>\n",
      "<a class=\"tag\" href=\"/tag/edison/page/1/\">edison</a>\n",
      "<a class=\"tag\" href=\"/tag/failure/page/1/\">failure</a>\n",
      "<a class=\"tag\" href=\"/tag/inspirational/page/1/\">inspirational</a>\n",
      "<a class=\"tag\" href=\"/tag/paraphrased/page/1/\">paraphrased</a>\n",
      "</div>\n",
      "</div>\n",
      "<div class=\"quote\" itemscope=\"\" itemtype=\"http://schema.org/CreativeWork\">\n",
      "<span class=\"text\" itemprop=\"text\">“A woman is like a tea bag; you never know how strong it is until it's in hot water.”</span>\n",
      "<span>by <small class=\"author\" itemprop=\"author\">Eleanor Roosevelt</small>\n",
      "<a href=\"/author/Eleanor-Roosevelt\">(about)</a>\n",
      "</span>\n",
      "<div class=\"tags\">\n",
      "            Tags:\n",
      "            <meta class=\"keywords\" content=\"misattributed-eleanor-roosevelt\" itemprop=\"keywords\"/>\n",
      "<a class=\"tag\" href=\"/tag/misattributed-eleanor-roosevelt/page/1/\">misattributed-eleanor-roosevelt</a>\n",
      "</div>\n",
      "</div>\n",
      "<div class=\"quote\" itemscope=\"\" itemtype=\"http://schema.org/CreativeWork\">\n",
      "<span class=\"text\" itemprop=\"text\">“A day without sunshine is like, you know, night.”</span>\n",
      "<span>by <small class=\"author\" itemprop=\"author\">Steve Martin</small>\n",
      "<a href=\"/author/Steve-Martin\">(about)</a>\n",
      "</span>\n",
      "<div class=\"tags\">\n",
      "            Tags:\n",
      "            <meta class=\"keywords\" content=\"humor,obvious,simile\" itemprop=\"keywords\"/>\n",
      "<a class=\"tag\" href=\"/tag/humor/page/1/\">humor</a>\n",
      "<a class=\"tag\" href=\"/tag/obvious/page/1/\">obvious</a>\n",
      "<a class=\"tag\" href=\"/tag/simile/page/1/\">simile</a>\n",
      "</div>\n",
      "</div>\n",
      "<nav>\n",
      "<ul class=\"pager\">\n",
      "<li class=\"next\">\n",
      "<a href=\"/page/2/\">Next <span aria-hidden=\"true\">→</span></a>\n",
      "</li>\n",
      "</ul>\n",
      "</nav>\n",
      "</div>\n",
      "<div class=\"col-md-4 tags-box\">\n",
      "<h2>Top Ten tags</h2>\n",
      "<span class=\"tag-item\">\n",
      "<a class=\"tag\" href=\"/tag/love/\" style=\"font-size: 28px\">love</a>\n",
      "</span>\n",
      "<span class=\"tag-item\">\n",
      "<a class=\"tag\" href=\"/tag/inspirational/\" style=\"font-size: 26px\">inspirational</a>\n",
      "</span>\n",
      "<span class=\"tag-item\">\n",
      "<a class=\"tag\" href=\"/tag/life/\" style=\"font-size: 26px\">life</a>\n",
      "</span>\n",
      "<span class=\"tag-item\">\n",
      "<a class=\"tag\" href=\"/tag/humor/\" style=\"font-size: 24px\">humor</a>\n",
      "</span>\n",
      "<span class=\"tag-item\">\n",
      "<a class=\"tag\" href=\"/tag/books/\" style=\"font-size: 22px\">books</a>\n",
      "</span>\n",
      "<span class=\"tag-item\">\n",
      "<a class=\"tag\" href=\"/tag/reading/\" style=\"font-size: 14px\">reading</a>\n",
      "</span>\n",
      "<span class=\"tag-item\">\n",
      "<a class=\"tag\" href=\"/tag/friendship/\" style=\"font-size: 10px\">friendship</a>\n",
      "</span>\n",
      "<span class=\"tag-item\">\n",
      "<a class=\"tag\" href=\"/tag/friends/\" style=\"font-size: 8px\">friends</a>\n",
      "</span>\n",
      "<span class=\"tag-item\">\n",
      "<a class=\"tag\" href=\"/tag/truth/\" style=\"font-size: 8px\">truth</a>\n",
      "</span>\n",
      "<span class=\"tag-item\">\n",
      "<a class=\"tag\" href=\"/tag/simile/\" style=\"font-size: 6px\">simile</a>\n",
      "</span>\n",
      "</div>\n",
      "</div>\n",
      "</div>\n"
     ]
    }
   ],
   "source": []
  },
  {
   "cell_type": "markdown",
   "metadata": {},
   "source": [
    "Note that doing that was also the same as doing this:"
   ]
  },
  {
   "cell_type": "code",
   "execution_count": 50,
   "metadata": {},
   "outputs": [
    {
     "name": "stdout",
     "output_type": "stream",
     "text": [
      "<a href=\"/\" style=\"text-decoration: none\">Quotes to Scrape</a>\n"
     ]
    }
   ],
   "source": []
  },
  {
   "cell_type": "markdown",
   "metadata": {},
   "source": [
    "To get the style of that tag:"
   ]
  },
  {
   "cell_type": "code",
   "execution_count": 53,
   "metadata": {},
   "outputs": [
    {
     "name": "stdout",
     "output_type": "stream",
     "text": [
      "text-decoration: none\n"
     ]
    }
   ],
   "source": []
  },
  {
   "cell_type": "markdown",
   "metadata": {},
   "source": [
    "We can also use `.find` with the tag name and other attributes, and `.findAll` to return __all__ tags fitting those attributes."
   ]
  },
  {
   "cell_type": "code",
   "execution_count": 74,
   "metadata": {
    "collapsed": true
   },
   "outputs": [
    {
     "name": "stdout",
     "output_type": "stream",
     "text": [
      "<h1>\n",
      "<a href=\"/\" style=\"text-decoration: none\">Quotes to Scrape</a>\n",
      "</h1>\n",
      "<h1>\n",
      "<a href=\"/\" style=\"text-decoration: none\">Quotes to Scrape</a>\n",
      "</h1>\n",
      "\n",
      "<a href=\"/\" style=\"text-decoration: none\">Quotes to Scrape</a>\n",
      "None\n",
      "<a href=\"/\" style=\"text-decoration: none\">Quotes to Scrape</a>\n",
      "\n",
      "28\n",
      "<class 'bs4.element.ResultSet'>\n",
      "<html lang=\"en\">\n",
      "<head>\n",
      "<meta charset=\"utf-8\"/>\n",
      "<title>Quotes to Scrape</title>\n",
      "<link href=\"/static/bootstrap.min.css\" rel=\"stylesheet\"/>\n",
      "<link href=\"/static/main.css\" rel=\"stylesheet\"/>\n",
      "</head>\n",
      "<body>\n",
      "<div class=\"container\">\n",
      "<div class=\"row header-box\">\n",
      "<div class=\"col-md-8\">\n",
      "<h1>\n",
      "<a href=\"/\" style=\"text-decoration: none\">Quotes to Scrape</a>\n",
      "</h1>\n",
      "</div>\n",
      "<div class=\"col-md-4\">\n",
      "<p>\n",
      "<a href=\"/login\">Login</a>\n",
      "</p>\n",
      "</div>\n",
      "</div>\n",
      "<div class=\"row\">\n",
      "<div class=\"col-md-8\">\n",
      "<div class=\"quote\" itemscope=\"\" itemtype=\"http://schema.org/CreativeWork\">\n",
      "<span class=\"text\" itemprop=\"text\">“The world as we have created it is a process of our thinking. It cannot be changed without changing our thinking.”</span>\n",
      "<span>by <small class=\"author\" itemprop=\"author\">Albert Einstein</small>\n",
      "<a href=\"/author/Albert-Einstein\">(about)</a>\n",
      "</span>\n",
      "<div class=\"tags\">\n",
      "            Tags:\n",
      "            <meta class=\"keywords\" content=\"change,deep-thoughts,thinking,world\" itemprop=\"keywords\"/>\n",
      "<a class=\"tag\" href=\"/tag/change/page/1/\">change</a>\n",
      "<a class=\"tag\" href=\"/tag/deep-thoughts/page/1/\">deep-thoughts</a>\n",
      "<a class=\"tag\" href=\"/tag/thinking/page/1/\">thinking</a>\n",
      "<a class=\"tag\" href=\"/tag/world/page/1/\">world</a>\n",
      "</div>\n",
      "</div>\n",
      "<div class=\"quote\" itemscope=\"\" itemtype=\"http://schema.org/CreativeWork\">\n",
      "<span class=\"text\" itemprop=\"text\">“It is our choices, Harry, that show what we truly are, far more than our abilities.”</span>\n",
      "<span>by <small class=\"author\" itemprop=\"author\">J.K. Rowling</small>\n",
      "<a href=\"/author/J-K-Rowling\">(about)</a>\n",
      "</span>\n",
      "<div class=\"tags\">\n",
      "            Tags:\n",
      "            <meta class=\"keywords\" content=\"abilities,choices\" itemprop=\"keywords\"/>\n",
      "<a class=\"tag\" href=\"/tag/abilities/page/1/\">abilities</a>\n",
      "<a class=\"tag\" href=\"/tag/choices/page/1/\">choices</a>\n",
      "</div>\n",
      "</div>\n",
      "<div class=\"quote\" itemscope=\"\" itemtype=\"http://schema.org/CreativeWork\">\n",
      "<span class=\"text\" itemprop=\"text\">“There are only two ways to live your life. One is as though nothing is a miracle. The other is as though everything is a miracle.”</span>\n",
      "<span>by <small class=\"author\" itemprop=\"author\">Albert Einstein</small>\n",
      "<a href=\"/author/Albert-Einstein\">(about)</a>\n",
      "</span>\n",
      "<div class=\"tags\">\n",
      "            Tags:\n",
      "            <meta class=\"keywords\" content=\"inspirational,life,live,miracle,miracles\" itemprop=\"keywords\"/>\n",
      "<a class=\"tag\" href=\"/tag/inspirational/page/1/\">inspirational</a>\n",
      "<a class=\"tag\" href=\"/tag/life/page/1/\">life</a>\n",
      "<a class=\"tag\" href=\"/tag/live/page/1/\">live</a>\n",
      "<a class=\"tag\" href=\"/tag/miracle/page/1/\">miracle</a>\n",
      "<a class=\"tag\" href=\"/tag/miracles/page/1/\">miracles</a>\n",
      "</div>\n",
      "</div>\n",
      "<div class=\"quote\" itemscope=\"\" itemtype=\"http://schema.org/CreativeWork\">\n",
      "<span class=\"text\" itemprop=\"text\">“The person, be it gentleman or lady, who has not pleasure in a good novel, must be intolerably stupid.”</span>\n",
      "<span>by <small class=\"author\" itemprop=\"author\">Jane Austen</small>\n",
      "<a href=\"/author/Jane-Austen\">(about)</a>\n",
      "</span>\n",
      "<div class=\"tags\">\n",
      "            Tags:\n",
      "            <meta class=\"keywords\" content=\"aliteracy,books,classic,humor\" itemprop=\"keywords\"/>\n",
      "<a class=\"tag\" href=\"/tag/aliteracy/page/1/\">aliteracy</a>\n",
      "<a class=\"tag\" href=\"/tag/books/page/1/\">books</a>\n",
      "<a class=\"tag\" href=\"/tag/classic/page/1/\">classic</a>\n",
      "<a class=\"tag\" href=\"/tag/humor/page/1/\">humor</a>\n",
      "</div>\n",
      "</div>\n",
      "<div class=\"quote\" itemscope=\"\" itemtype=\"http://schema.org/CreativeWork\">\n",
      "<span class=\"text\" itemprop=\"text\">“Imperfection is beauty, madness is genius and it's better to be absolutely ridiculous than absolutely boring.”</span>\n",
      "<span>by <small class=\"author\" itemprop=\"author\">Marilyn Monroe</small>\n",
      "<a href=\"/author/Marilyn-Monroe\">(about)</a>\n",
      "</span>\n",
      "<div class=\"tags\">\n",
      "            Tags:\n",
      "            <meta class=\"keywords\" content=\"be-yourself,inspirational\" itemprop=\"keywords\"/>\n",
      "<a class=\"tag\" href=\"/tag/be-yourself/page/1/\">be-yourself</a>\n",
      "<a class=\"tag\" href=\"/tag/inspirational/page/1/\">inspirational</a>\n",
      "</div>\n",
      "</div>\n",
      "<div class=\"quote\" itemscope=\"\" itemtype=\"http://schema.org/CreativeWork\">\n",
      "<span class=\"text\" itemprop=\"text\">“Try not to become a man of success. Rather become a man of value.”</span>\n",
      "<span>by <small class=\"author\" itemprop=\"author\">Albert Einstein</small>\n",
      "<a href=\"/author/Albert-Einstein\">(about)</a>\n",
      "</span>\n",
      "<div class=\"tags\">\n",
      "            Tags:\n",
      "            <meta class=\"keywords\" content=\"adulthood,success,value\" itemprop=\"keywords\"/>\n",
      "<a class=\"tag\" href=\"/tag/adulthood/page/1/\">adulthood</a>\n",
      "<a class=\"tag\" href=\"/tag/success/page/1/\">success</a>\n",
      "<a class=\"tag\" href=\"/tag/value/page/1/\">value</a>\n",
      "</div>\n",
      "</div>\n",
      "<div class=\"quote\" itemscope=\"\" itemtype=\"http://schema.org/CreativeWork\">\n",
      "<span class=\"text\" itemprop=\"text\">“It is better to be hated for what you are than to be loved for what you are not.”</span>\n",
      "<span>by <small class=\"author\" itemprop=\"author\">André Gide</small>\n",
      "<a href=\"/author/Andre-Gide\">(about)</a>\n",
      "</span>\n",
      "<div class=\"tags\">\n",
      "            Tags:\n",
      "            <meta class=\"keywords\" content=\"life,love\" itemprop=\"keywords\"/>\n",
      "<a class=\"tag\" href=\"/tag/life/page/1/\">life</a>\n",
      "<a class=\"tag\" href=\"/tag/love/page/1/\">love</a>\n",
      "</div>\n",
      "</div>\n",
      "<div class=\"quote\" itemscope=\"\" itemtype=\"http://schema.org/CreativeWork\">\n",
      "<span class=\"text\" itemprop=\"text\">“I have not failed. I've just found 10,000 ways that won't work.”</span>\n",
      "<span>by <small class=\"author\" itemprop=\"author\">Thomas A. Edison</small>\n",
      "<a href=\"/author/Thomas-A-Edison\">(about)</a>\n",
      "</span>\n",
      "<div class=\"tags\">\n",
      "            Tags:\n",
      "            <meta class=\"keywords\" content=\"edison,failure,inspirational,paraphrased\" itemprop=\"keywords\"/>\n",
      "<a class=\"tag\" href=\"/tag/edison/page/1/\">edison</a>\n",
      "<a class=\"tag\" href=\"/tag/failure/page/1/\">failure</a>\n",
      "<a class=\"tag\" href=\"/tag/inspirational/page/1/\">inspirational</a>\n",
      "<a class=\"tag\" href=\"/tag/paraphrased/page/1/\">paraphrased</a>\n",
      "</div>\n",
      "</div>\n",
      "<div class=\"quote\" itemscope=\"\" itemtype=\"http://schema.org/CreativeWork\">\n",
      "<span class=\"text\" itemprop=\"text\">“A woman is like a tea bag; you never know how strong it is until it's in hot water.”</span>\n",
      "<span>by <small class=\"author\" itemprop=\"author\">Eleanor Roosevelt</small>\n",
      "<a href=\"/author/Eleanor-Roosevelt\">(about)</a>\n",
      "</span>\n",
      "<div class=\"tags\">\n",
      "            Tags:\n",
      "            <meta class=\"keywords\" content=\"misattributed-eleanor-roosevelt\" itemprop=\"keywords\"/>\n",
      "<a class=\"tag\" href=\"/tag/misattributed-eleanor-roosevelt/page/1/\">misattributed-eleanor-roosevelt</a>\n",
      "</div>\n",
      "</div>\n",
      "<div class=\"quote\" itemscope=\"\" itemtype=\"http://schema.org/CreativeWork\">\n",
      "<span class=\"text\" itemprop=\"text\">“A day without sunshine is like, you know, night.”</span>\n",
      "<span>by <small class=\"author\" itemprop=\"author\">Steve Martin</small>\n",
      "<a href=\"/author/Steve-Martin\">(about)</a>\n",
      "</span>\n",
      "<div class=\"tags\">\n",
      "            Tags:\n",
      "            <meta class=\"keywords\" content=\"humor,obvious,simile\" itemprop=\"keywords\"/>\n",
      "<a class=\"tag\" href=\"/tag/humor/page/1/\">humor</a>\n",
      "<a class=\"tag\" href=\"/tag/obvious/page/1/\">obvious</a>\n",
      "<a class=\"tag\" href=\"/tag/simile/page/1/\">simile</a>\n",
      "</div>\n",
      "</div>\n",
      "<nav>\n",
      "<ul class=\"pager\">\n",
      "<li class=\"next\">\n",
      "<a href=\"/page/2/\">Next <span aria-hidden=\"true\">→</span></a>\n",
      "</li>\n",
      "</ul>\n",
      "</nav>\n",
      "</div>\n",
      "<div class=\"col-md-4 tags-box\">\n",
      "<h2>Top Ten tags</h2>\n",
      "<span class=\"tag-item\">\n",
      "<a class=\"tag\" href=\"/tag/love/\" style=\"font-size: 28px\">love</a>\n",
      "</span>\n",
      "<span class=\"tag-item\">\n",
      "<a class=\"tag\" href=\"/tag/inspirational/\" style=\"font-size: 26px\">inspirational</a>\n",
      "</span>\n",
      "<span class=\"tag-item\">\n",
      "<a class=\"tag\" href=\"/tag/life/\" style=\"font-size: 26px\">life</a>\n",
      "</span>\n",
      "<span class=\"tag-item\">\n",
      "<a class=\"tag\" href=\"/tag/humor/\" style=\"font-size: 24px\">humor</a>\n",
      "</span>\n",
      "<span class=\"tag-item\">\n",
      "<a class=\"tag\" href=\"/tag/books/\" style=\"font-size: 22px\">books</a>\n",
      "</span>\n",
      "<span class=\"tag-item\">\n",
      "<a class=\"tag\" href=\"/tag/reading/\" style=\"font-size: 14px\">reading</a>\n",
      "</span>\n",
      "<span class=\"tag-item\">\n",
      "<a class=\"tag\" href=\"/tag/friendship/\" style=\"font-size: 10px\">friendship</a>\n",
      "</span>\n",
      "<span class=\"tag-item\">\n",
      "<a class=\"tag\" href=\"/tag/friends/\" style=\"font-size: 8px\">friends</a>\n",
      "</span>\n",
      "<span class=\"tag-item\">\n",
      "<a class=\"tag\" href=\"/tag/truth/\" style=\"font-size: 8px\">truth</a>\n",
      "</span>\n",
      "<span class=\"tag-item\">\n",
      "<a class=\"tag\" href=\"/tag/simile/\" style=\"font-size: 6px\">simile</a>\n",
      "</span>\n",
      "</div>\n",
      "</div>\n",
      "</div>\n",
      "<footer class=\"footer\">\n",
      "<div class=\"container\">\n",
      "<p class=\"text-muted\">\n",
      "                Quotes by: <a href=\"https://www.goodreads.com/quotes\">GoodReads.com</a>\n",
      "</p>\n",
      "<p class=\"copyright\">\n",
      "                Made with <span class=\"sh-red\">❤</span> by <a href=\"https://scrapinghub.com\">Scrapinghub</a>\n",
      "</p>\n",
      "</div>\n",
      "</footer>\n",
      "</body>\n",
      "</html>\n"
     ]
    }
   ],
   "source": []
  },
  {
   "cell_type": "markdown",
   "metadata": {},
   "source": [
    "Let's practice on the first quotation, by Albert Einstein.\n",
    "We get this by going to the first tag that has the class of quote."
   ]
  },
  {
   "cell_type": "code",
   "execution_count": 84,
   "metadata": {
    "collapsed": true
   },
   "outputs": [
    {
     "name": "stdout",
     "output_type": "stream",
     "text": [
      "<div class=\"quote\" itemscope=\"\" itemtype=\"http://schema.org/CreativeWork\">\n",
      "<span class=\"text\" itemprop=\"text\">“The world as we have created it is a process of our thinking. It cannot be changed without changing our thinking.”</span>\n",
      "<span>by <small class=\"author\" itemprop=\"author\">Albert Einstein</small>\n",
      "<a href=\"/author/Albert-Einstein\">(about)</a>\n",
      "</span>\n",
      "<div class=\"tags\">\n",
      "            Tags:\n",
      "            <meta class=\"keywords\" content=\"change,deep-thoughts,thinking,world\" itemprop=\"keywords\"/>\n",
      "<a class=\"tag\" href=\"/tag/change/page/1/\">change</a>\n",
      "<a class=\"tag\" href=\"/tag/deep-thoughts/page/1/\">deep-thoughts</a>\n",
      "<a class=\"tag\" href=\"/tag/thinking/page/1/\">thinking</a>\n",
      "<a class=\"tag\" href=\"/tag/world/page/1/\">world</a>\n",
      "</div>\n",
      "</div>\n"
     ]
    }
   ],
   "source": []
  },
  {
   "cell_type": "code",
   "execution_count": 88,
   "metadata": {
    "collapsed": true
   },
   "outputs": [
    {
     "name": "stdout",
     "output_type": "stream",
     "text": [
      "<div class=\"tags\">\n",
      "            Tags:\n",
      "            <meta class=\"keywords\" content=\"change,deep-thoughts,thinking,world\" itemprop=\"keywords\"/>\n",
      "<a class=\"tag\" href=\"/tag/change/page/1/\">change</a>\n",
      "<a class=\"tag\" href=\"/tag/deep-thoughts/page/1/\">deep-thoughts</a>\n",
      "<a class=\"tag\" href=\"/tag/thinking/page/1/\">thinking</a>\n",
      "<a class=\"tag\" href=\"/tag/world/page/1/\">world</a>\n",
      "</div>\n",
      "<span class=\"text\" itemprop=\"text\">“The world as we have created it is a process of our thinking. It cannot be changed without changing our thinking.”</span>\n",
      "<a href=\"/author/Albert-Einstein\">(about)</a>\n",
      "[<a href=\"/author/Albert-Einstein\">(about)</a>, <a class=\"tag\" href=\"/tag/change/page/1/\">change</a>, <a class=\"tag\" href=\"/tag/deep-thoughts/page/1/\">deep-thoughts</a>, <a class=\"tag\" href=\"/tag/thinking/page/1/\">thinking</a>, <a class=\"tag\" href=\"/tag/world/page/1/\">world</a>]\n"
     ]
    }
   ],
   "source": []
  },
  {
   "cell_type": "markdown",
   "metadata": {},
   "source": [
    "Let's get all of the tags for that quotation, and use `get_text` to get __only__ the text from each tag."
   ]
  },
  {
   "cell_type": "code",
   "execution_count": 99,
   "metadata": {
    "collapsed": true
   },
   "outputs": [
    {
     "name": "stdout",
     "output_type": "stream",
     "text": [
      "change\n",
      "deep-thoughts\n",
      "thinking\n",
      "world\n"
     ]
    }
   ],
   "source": []
  },
  {
   "cell_type": "markdown",
   "metadata": {},
   "source": [
    "Now navigate just to \"Albert Einstein\"."
   ]
  },
  {
   "cell_type": "code",
   "execution_count": null,
   "metadata": {},
   "outputs": [],
   "source": []
  },
  {
   "cell_type": "markdown",
   "metadata": {},
   "source": [
    "Let's get Albert Einstein's quotation."
   ]
  },
  {
   "cell_type": "code",
   "execution_count": null,
   "metadata": {},
   "outputs": [],
   "source": []
  },
  {
   "cell_type": "markdown",
   "metadata": {},
   "source": [
    "Now let's make a list of every person on this page, and then every quotation."
   ]
  },
  {
   "cell_type": "code",
   "execution_count": null,
   "metadata": {},
   "outputs": [],
   "source": []
  },
  {
   "cell_type": "markdown",
   "metadata": {},
   "source": [
    "Say what we really want is to make a big spreadshet of all the names and quotations on this website. This means we need to go through the pages. Let's store everything in a python __dictionary__ before turning it into a spreadsheet with `pandas`.\n",
    "\n",
    "We'll store each entry in this format:\n",
    "`{'Person':'Albert Einstein',\n",
    "'Quotation':'The world as we have created it is a process of our thinking. It cannot be changed without changing our thinking.'}`\n",
    "\n",
    "First, let's make a __function__ to do that for us."
   ]
  },
  {
   "cell_type": "code",
   "execution_count": null,
   "metadata": {},
   "outputs": [],
   "source": []
  },
  {
   "cell_type": "markdown",
   "metadata": {},
   "source": [
    "Loop through every person/quote on the page, and return a __list__ of __dictionaries__, where every dictionary is composed of 2 __key-value__ pairs: 1) Person's name 2) Person's quotation"
   ]
  },
  {
   "cell_type": "code",
   "execution_count": null,
   "metadata": {},
   "outputs": [],
   "source": []
  },
  {
   "cell_type": "markdown",
   "metadata": {},
   "source": [
    "What we __really__ want is a list of __every person on this website__. To do this, we need to use `requests` to call on all the pages.\n",
    "\n",
    "It's helpful to do some investigating first. Notice that [quotes.toscrape.com/page/1/](quotes.toscrape.com/page/1/) is this page we have been working with, [quotes.toscrape.com/page/2/](quotes.toscrape.com/page/2/) is the next page, and [quotes.toscrape.com/page/10/](quotes.toscrape.com/page/10/) is the last page. So our goal is to scrape these __10__ pages.\n",
    "\n",
    "We can generate these 10 different URLs like this."
   ]
  },
  {
   "cell_type": "code",
   "execution_count": null,
   "metadata": {},
   "outputs": [],
   "source": []
  },
  {
   "cell_type": "markdown",
   "metadata": {},
   "source": [
    "We are basically going to repeat the process that we did to get all the information from the first page for all 10 pages.\n"
   ]
  },
  {
   "cell_type": "code",
   "execution_count": null,
   "metadata": {},
   "outputs": [],
   "source": []
  },
  {
   "cell_type": "markdown",
   "metadata": {},
   "source": [
    "We did it! Here is what the resulting dictionary looks like if we print it out:"
   ]
  },
  {
   "cell_type": "code",
   "execution_count": null,
   "metadata": {},
   "outputs": [],
   "source": []
  },
  {
   "cell_type": "markdown",
   "metadata": {},
   "source": [
    "We can make this a JSON like this:"
   ]
  },
  {
   "cell_type": "code",
   "execution_count": null,
   "metadata": {},
   "outputs": [],
   "source": []
  },
  {
   "cell_type": "markdown",
   "metadata": {},
   "source": [
    "And also into a `pandas` DataFrame to export it as an Excel or CSV file."
   ]
  },
  {
   "cell_type": "code",
   "execution_count": null,
   "metadata": {},
   "outputs": [],
   "source": []
  }
 ],
 "metadata": {
  "kernelspec": {
   "display_name": "Python 3",
   "language": "python",
   "name": "python3"
  },
  "language_info": {
   "codemirror_mode": {
    "name": "ipython",
    "version": 3
   },
   "file_extension": ".py",
   "mimetype": "text/x-python",
   "name": "python",
   "nbconvert_exporter": "python",
   "pygments_lexer": "ipython3",
   "version": "3.7.4"
  }
 },
 "nbformat": 4,
 "nbformat_minor": 4
}
