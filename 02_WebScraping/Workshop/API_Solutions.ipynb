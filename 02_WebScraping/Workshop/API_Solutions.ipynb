{
 "cells": [
  {
   "cell_type": "markdown",
   "metadata": {},
   "source": [
    "## WIM Python API-Webscraping workshop: 2020-09-18\n",
    "### Helge Marahrens (hmarahre@iu.edu) & Anne Kavalerchik (akavaler@iu.edu)\n",
    "#### Part 1: ProPublica API\n",
    "https://www.propublica.org/datastore/api/propublica-congress-api"
   ]
  },
  {
   "cell_type": "markdown",
   "metadata": {},
   "source": [
    "#### What you need:\n",
    "* Python\n",
    "    * required: requests, json\n",
    "    * optional: pandas, pickle"
   ]
  },
  {
   "cell_type": "code",
   "execution_count": 22,
   "metadata": {},
   "outputs": [],
   "source": [
    "# packages you need to install\n",
    "import requests\n",
    "import json\n",
    "\n",
    "import pandas as pd\n",
    "\n",
    "# packages that come with Python\n",
    "from collections import defaultdict\n",
    "from time import sleep\n",
    "import pickle"
   ]
  },
  {
   "cell_type": "markdown",
   "metadata": {},
   "source": [
    "* a Developer account/API key\n",
    "    * I saved my API key in a .txt document\n",
    "    * do not share you API key with anyone (i.e., treat it like a password)"
   ]
  },
  {
   "cell_type": "code",
   "execution_count": 23,
   "metadata": {},
   "outputs": [],
   "source": [
    "local_file = 'congress_auth.txt'\n",
    "with open(local_file, \"r\") as txtfile:\n",
    "    content = txtfile.readline().strip('\\n')\n",
    "credentials = {'X-API-Key':content}"
   ]
  },
  {
   "cell_type": "code",
   "execution_count": 24,
   "metadata": {},
   "outputs": [],
   "source": [
    "#credentials = {'X-API-Key':'asdj423948239wfwdsld3445'} <- not my real API key (I just slammed my keyboard)"
   ]
  },
  {
   "cell_type": "markdown",
   "metadata": {},
   "source": [
    "#### pseudoscript\n",
    "1. read API documentation\n",
    "<br> check the API limit\n",
    "2. import packages\n",
    "3. authentication\n",
    "4. build get request\n",
    "5. send get request – check server response\n",
    "<br><font color=green>200 – OK</font>\n",
    "<br><font color=orange>404 – data not found</font>\n",
    "<br><font color=red>401 – unauthorized</font>\n",
    "<br><font color=red>429 – too many requests</font>\n",
    "6. explore data structures\n",
    "<br> lists, dictionaries\n",
    "7. save data\n",
    "<br> e.g. csv"
   ]
  },
  {
   "cell_type": "markdown",
   "metadata": {},
   "source": [
    "#### 1. read API documentation\n",
    "https://www.propublica.org/datastore/api/propublica-congress-api  <br>\n",
    "\"Usage is limited to 5000 requests per day (rate limits are subject to change).\"\n",
    "\n",
    "see above for: <br>\n",
    "2. import packages <br>\n",
    "3. authentication key"
   ]
  },
  {
   "cell_type": "markdown",
   "metadata": {},
   "source": [
    "#### 4. build get request"
   ]
  },
  {
   "cell_type": "code",
   "execution_count": 25,
   "metadata": {},
   "outputs": [
    {
     "name": "stdout",
     "output_type": "stream",
     "text": [
      "https://api.propublica.org/congress/v1/116/house/members.json\n"
     ]
    }
   ],
   "source": [
    "host = \"https://api.propublica.org/congress/v1/116\"\n",
    "chamber = \"/house\"\n",
    "data_section = \"/members.json\"\n",
    "print(host + chamber + data_section)"
   ]
  },
  {
   "cell_type": "markdown",
   "metadata": {},
   "source": [
    "#### 5. send get request – check server response"
   ]
  },
  {
   "cell_type": "code",
   "execution_count": 26,
   "metadata": {},
   "outputs": [],
   "source": [
    "response = requests.get(host + chamber + data_section, headers=credentials)\n",
    "assert(response.status_code==200)\n",
    "members = response.json()"
   ]
  },
  {
   "cell_type": "code",
   "execution_count": 27,
   "metadata": {},
   "outputs": [
    {
     "data": {
      "text/plain": [
       "200"
      ]
     },
     "execution_count": 27,
     "metadata": {},
     "output_type": "execute_result"
    }
   ],
   "source": [
    "response.status_code"
   ]
  },
  {
   "cell_type": "code",
   "execution_count": 28,
   "metadata": {},
   "outputs": [],
   "source": [
    "assert(response.status_code==200)"
   ]
  },
  {
   "cell_type": "markdown",
   "metadata": {},
   "source": [
    "#### 6. explore data structures"
   ]
  },
  {
   "cell_type": "code",
   "execution_count": 35,
   "metadata": {},
   "outputs": [
    {
     "data": {
      "text/plain": [
       "3"
      ]
     },
     "execution_count": 35,
     "metadata": {},
     "output_type": "execute_result"
    }
   ],
   "source": [
    "len(members)"
   ]
  },
  {
   "cell_type": "code",
   "execution_count": 36,
   "metadata": {},
   "outputs": [
    {
     "data": {
      "text/plain": [
       "dict"
      ]
     },
     "execution_count": 36,
     "metadata": {},
     "output_type": "execute_result"
    }
   ],
   "source": [
    "type(members)"
   ]
  },
  {
   "cell_type": "code",
   "execution_count": 37,
   "metadata": {},
   "outputs": [
    {
     "data": {
      "text/plain": [
       "dict_keys(['status', 'copyright', 'results'])"
      ]
     },
     "execution_count": 37,
     "metadata": {},
     "output_type": "execute_result"
    }
   ],
   "source": [
    "members.keys()"
   ]
  },
  {
   "cell_type": "code",
   "execution_count": 38,
   "metadata": {},
   "outputs": [
    {
     "data": {
      "text/plain": [
       "1"
      ]
     },
     "execution_count": 38,
     "metadata": {},
     "output_type": "execute_result"
    }
   ],
   "source": [
    "len(members['results'])"
   ]
  },
  {
   "cell_type": "code",
   "execution_count": 39,
   "metadata": {},
   "outputs": [
    {
     "data": {
      "text/plain": [
       "dict_keys(['congress', 'chamber', 'num_results', 'offset', 'members'])"
      ]
     },
     "execution_count": 39,
     "metadata": {},
     "output_type": "execute_result"
    }
   ],
   "source": [
    "members['results'][0].keys()"
   ]
  },
  {
   "cell_type": "code",
   "execution_count": 40,
   "metadata": {},
   "outputs": [
    {
     "data": {
      "text/plain": [
       "'116'"
      ]
     },
     "execution_count": 40,
     "metadata": {},
     "output_type": "execute_result"
    }
   ],
   "source": [
    "members['results'][0]['congress']"
   ]
  },
  {
   "cell_type": "code",
   "execution_count": 41,
   "metadata": {},
   "outputs": [
    {
     "data": {
      "text/plain": [
       "list"
      ]
     },
     "execution_count": 41,
     "metadata": {},
     "output_type": "execute_result"
    }
   ],
   "source": [
    "type(members['results'][0]['members'])"
   ]
  },
  {
   "cell_type": "code",
   "execution_count": 42,
   "metadata": {},
   "outputs": [
    {
     "data": {
      "text/plain": [
       "449"
      ]
     },
     "execution_count": 42,
     "metadata": {},
     "output_type": "execute_result"
    }
   ],
   "source": [
    "len(members['results'][0]['members'])"
   ]
  },
  {
   "cell_type": "code",
   "execution_count": 44,
   "metadata": {},
   "outputs": [
    {
     "name": "stdout",
     "output_type": "stream",
     "text": [
      "{\n",
      "    \"api_uri\": \"https://api.propublica.org/congress/v1/members/A000374.json\",\n",
      "    \"at_large\": false,\n",
      "    \"contact_form\": null,\n",
      "    \"cook_pvi\": \"R+15\",\n",
      "    \"crp_id\": \"N00036633\",\n",
      "    \"cspan_id\": \"76236\",\n",
      "    \"date_of_birth\": \"1954-09-16\",\n",
      "    \"district\": \"5\",\n",
      "    \"dw_nominate\": 0.541,\n",
      "    \"facebook_account\": \"CongressmanRalphAbraham\",\n",
      "    \"fax\": null,\n",
      "    \"fec_candidate_id\": \"H4LA05221\",\n",
      "    \"first_name\": \"Ralph\",\n",
      "    \"gender\": \"M\",\n",
      "    \"geoid\": \"2205\",\n",
      "    \"google_entity_id\": \"/m/012dwd7_\",\n",
      "    \"govtrack_id\": \"412630\",\n",
      "    \"icpsr_id\": \"21522\",\n",
      "    \"id\": \"A000374\",\n",
      "    \"ideal_point\": null,\n",
      "    \"in_office\": true,\n",
      "    \"last_name\": \"Abraham\",\n",
      "    \"last_updated\": \"2020-09-16 10:30:22 -0400\",\n",
      "    \"leadership_role\": \"\",\n",
      "    \"middle_name\": null,\n",
      "    \"missed_votes\": 319,\n",
      "    \"missed_votes_pct\": 35.84,\n",
      "    \"next_election\": \"2020\",\n",
      "    \"ocd_id\": \"ocd-division/country:us/state:la/cd:5\",\n",
      "    \"office\": \"417 Cannon House Office Building\",\n",
      "    \"party\": \"R\",\n",
      "    \"phone\": \"202-225-8490\",\n",
      "    \"rss_url\": \"https://abraham.house.gov/rss.xml\",\n",
      "    \"seniority\": \"6\",\n",
      "    \"short_title\": \"Rep.\",\n",
      "    \"state\": \"LA\",\n",
      "    \"suffix\": null,\n",
      "    \"title\": \"Representative\",\n",
      "    \"total_present\": 0,\n",
      "    \"total_votes\": 890,\n",
      "    \"twitter_account\": \"RepAbraham\",\n",
      "    \"url\": \"https://abraham.house.gov\",\n",
      "    \"votes_against_party_pct\": 4.95,\n",
      "    \"votes_with_party_pct\": 94.88,\n",
      "    \"votesmart_id\": \"155414\",\n",
      "    \"youtube_account\": null\n",
      "}\n"
     ]
    }
   ],
   "source": [
    "print(json.dumps(members['results'][0]['members'][0],\\\n",
    "                 indent=4, sort_keys=True))"
   ]
  },
  {
   "cell_type": "markdown",
   "metadata": {},
   "source": [
    "#### 7. save data"
   ]
  },
  {
   "cell_type": "code",
   "execution_count": 46,
   "metadata": {},
   "outputs": [
    {
     "data": {
      "text/plain": [
       "(449, 46)"
      ]
     },
     "execution_count": 46,
     "metadata": {},
     "output_type": "execute_result"
    }
   ],
   "source": [
    "df = pd.DataFrame(members['results'][0]['members'])\n",
    "df.shape"
   ]
  },
  {
   "cell_type": "code",
   "execution_count": 48,
   "metadata": {},
   "outputs": [
    {
     "data": {
      "text/html": [
       "<div>\n",
       "<style scoped>\n",
       "    .dataframe tbody tr th:only-of-type {\n",
       "        vertical-align: middle;\n",
       "    }\n",
       "\n",
       "    .dataframe tbody tr th {\n",
       "        vertical-align: top;\n",
       "    }\n",
       "\n",
       "    .dataframe thead th {\n",
       "        text-align: right;\n",
       "    }\n",
       "</style>\n",
       "<table border=\"1\" class=\"dataframe\">\n",
       "  <thead>\n",
       "    <tr style=\"text-align: right;\">\n",
       "      <th></th>\n",
       "      <th>id</th>\n",
       "      <th>title</th>\n",
       "      <th>short_title</th>\n",
       "      <th>api_uri</th>\n",
       "      <th>first_name</th>\n",
       "      <th>middle_name</th>\n",
       "      <th>last_name</th>\n",
       "      <th>suffix</th>\n",
       "      <th>date_of_birth</th>\n",
       "      <th>gender</th>\n",
       "      <th>...</th>\n",
       "      <th>office</th>\n",
       "      <th>phone</th>\n",
       "      <th>fax</th>\n",
       "      <th>state</th>\n",
       "      <th>district</th>\n",
       "      <th>at_large</th>\n",
       "      <th>geoid</th>\n",
       "      <th>missed_votes_pct</th>\n",
       "      <th>votes_with_party_pct</th>\n",
       "      <th>votes_against_party_pct</th>\n",
       "    </tr>\n",
       "  </thead>\n",
       "  <tbody>\n",
       "    <tr>\n",
       "      <td>0</td>\n",
       "      <td>A000374</td>\n",
       "      <td>Representative</td>\n",
       "      <td>Rep.</td>\n",
       "      <td>https://api.propublica.org/congress/v1/members...</td>\n",
       "      <td>Ralph</td>\n",
       "      <td>None</td>\n",
       "      <td>Abraham</td>\n",
       "      <td>None</td>\n",
       "      <td>1954-09-16</td>\n",
       "      <td>M</td>\n",
       "      <td>...</td>\n",
       "      <td>417 Cannon House Office Building</td>\n",
       "      <td>202-225-8490</td>\n",
       "      <td>None</td>\n",
       "      <td>LA</td>\n",
       "      <td>5</td>\n",
       "      <td>False</td>\n",
       "      <td>2205</td>\n",
       "      <td>35.84</td>\n",
       "      <td>94.88</td>\n",
       "      <td>4.95</td>\n",
       "    </tr>\n",
       "    <tr>\n",
       "      <td>1</td>\n",
       "      <td>A000370</td>\n",
       "      <td>Representative</td>\n",
       "      <td>Rep.</td>\n",
       "      <td>https://api.propublica.org/congress/v1/members...</td>\n",
       "      <td>Alma</td>\n",
       "      <td>None</td>\n",
       "      <td>Adams</td>\n",
       "      <td>None</td>\n",
       "      <td>1946-05-27</td>\n",
       "      <td>F</td>\n",
       "      <td>...</td>\n",
       "      <td>2436 Rayburn House Office Building</td>\n",
       "      <td>202-225-1510</td>\n",
       "      <td>None</td>\n",
       "      <td>NC</td>\n",
       "      <td>12</td>\n",
       "      <td>False</td>\n",
       "      <td>3712</td>\n",
       "      <td>2.92</td>\n",
       "      <td>99.19</td>\n",
       "      <td>0.70</td>\n",
       "    </tr>\n",
       "    <tr>\n",
       "      <td>2</td>\n",
       "      <td>A000055</td>\n",
       "      <td>Representative</td>\n",
       "      <td>Rep.</td>\n",
       "      <td>https://api.propublica.org/congress/v1/members...</td>\n",
       "      <td>Robert</td>\n",
       "      <td>B.</td>\n",
       "      <td>Aderholt</td>\n",
       "      <td>None</td>\n",
       "      <td>1965-07-22</td>\n",
       "      <td>M</td>\n",
       "      <td>...</td>\n",
       "      <td>1203 Longworth House Office Building</td>\n",
       "      <td>202-225-4876</td>\n",
       "      <td>None</td>\n",
       "      <td>AL</td>\n",
       "      <td>4</td>\n",
       "      <td>False</td>\n",
       "      <td>0104</td>\n",
       "      <td>5.06</td>\n",
       "      <td>93.56</td>\n",
       "      <td>6.32</td>\n",
       "    </tr>\n",
       "    <tr>\n",
       "      <td>3</td>\n",
       "      <td>A000371</td>\n",
       "      <td>Representative</td>\n",
       "      <td>Rep.</td>\n",
       "      <td>https://api.propublica.org/congress/v1/members...</td>\n",
       "      <td>Pete</td>\n",
       "      <td>None</td>\n",
       "      <td>Aguilar</td>\n",
       "      <td>None</td>\n",
       "      <td>1979-06-19</td>\n",
       "      <td>M</td>\n",
       "      <td>...</td>\n",
       "      <td>109 Cannon House Office Building</td>\n",
       "      <td>202-225-3201</td>\n",
       "      <td>None</td>\n",
       "      <td>CA</td>\n",
       "      <td>31</td>\n",
       "      <td>False</td>\n",
       "      <td>0631</td>\n",
       "      <td>0.90</td>\n",
       "      <td>97.27</td>\n",
       "      <td>2.61</td>\n",
       "    </tr>\n",
       "    <tr>\n",
       "      <td>4</td>\n",
       "      <td>A000372</td>\n",
       "      <td>Representative</td>\n",
       "      <td>Rep.</td>\n",
       "      <td>https://api.propublica.org/congress/v1/members...</td>\n",
       "      <td>Rick</td>\n",
       "      <td>None</td>\n",
       "      <td>Allen</td>\n",
       "      <td>None</td>\n",
       "      <td>1951-11-07</td>\n",
       "      <td>M</td>\n",
       "      <td>...</td>\n",
       "      <td>2400 Rayburn House Office Building</td>\n",
       "      <td>202-225-2823</td>\n",
       "      <td>None</td>\n",
       "      <td>GA</td>\n",
       "      <td>12</td>\n",
       "      <td>False</td>\n",
       "      <td>1312</td>\n",
       "      <td>0.22</td>\n",
       "      <td>92.27</td>\n",
       "      <td>7.61</td>\n",
       "    </tr>\n",
       "  </tbody>\n",
       "</table>\n",
       "<p>5 rows × 46 columns</p>\n",
       "</div>"
      ],
      "text/plain": [
       "        id           title short_title  \\\n",
       "0  A000374  Representative        Rep.   \n",
       "1  A000370  Representative        Rep.   \n",
       "2  A000055  Representative        Rep.   \n",
       "3  A000371  Representative        Rep.   \n",
       "4  A000372  Representative        Rep.   \n",
       "\n",
       "                                             api_uri first_name middle_name  \\\n",
       "0  https://api.propublica.org/congress/v1/members...      Ralph        None   \n",
       "1  https://api.propublica.org/congress/v1/members...       Alma        None   \n",
       "2  https://api.propublica.org/congress/v1/members...     Robert          B.   \n",
       "3  https://api.propublica.org/congress/v1/members...       Pete        None   \n",
       "4  https://api.propublica.org/congress/v1/members...       Rick        None   \n",
       "\n",
       "  last_name suffix date_of_birth gender  ...  \\\n",
       "0   Abraham   None    1954-09-16      M  ...   \n",
       "1     Adams   None    1946-05-27      F  ...   \n",
       "2  Aderholt   None    1965-07-22      M  ...   \n",
       "3   Aguilar   None    1979-06-19      M  ...   \n",
       "4     Allen   None    1951-11-07      M  ...   \n",
       "\n",
       "                                 office         phone   fax state district  \\\n",
       "0      417 Cannon House Office Building  202-225-8490  None    LA        5   \n",
       "1    2436 Rayburn House Office Building  202-225-1510  None    NC       12   \n",
       "2  1203 Longworth House Office Building  202-225-4876  None    AL        4   \n",
       "3      109 Cannon House Office Building  202-225-3201  None    CA       31   \n",
       "4    2400 Rayburn House Office Building  202-225-2823  None    GA       12   \n",
       "\n",
       "  at_large geoid missed_votes_pct votes_with_party_pct votes_against_party_pct  \n",
       "0    False  2205            35.84                94.88                    4.95  \n",
       "1    False  3712             2.92                99.19                    0.70  \n",
       "2    False  0104             5.06                93.56                    6.32  \n",
       "3    False  0631             0.90                97.27                    2.61  \n",
       "4    False  1312             0.22                92.27                    7.61  \n",
       "\n",
       "[5 rows x 46 columns]"
      ]
     },
     "execution_count": 48,
     "metadata": {},
     "output_type": "execute_result"
    }
   ],
   "source": [
    "df.head()"
   ]
  },
  {
   "cell_type": "code",
   "execution_count": 49,
   "metadata": {},
   "outputs": [],
   "source": [
    "df.to_excel(\"congress_house_116.xlsx\", encoding='utf-8-sic')"
   ]
  },
  {
   "cell_type": "markdown",
   "metadata": {},
   "source": [
    "#### health bills"
   ]
  },
  {
   "cell_type": "code",
   "execution_count": 53,
   "metadata": {},
   "outputs": [],
   "source": [
    "bills_100 = defaultdict()\n",
    "host =\\\n",
    " \"https://api.propublica.org/congress/v1/bills/subjects/health.json?offset=\""
   ]
  },
  {
   "cell_type": "code",
   "execution_count": 54,
   "metadata": {},
   "outputs": [],
   "source": [
    "for i, offset in enumerate(range(0,100,20)):\n",
    "    sleep(1)\n",
    "    response = requests.get(host + str(offset), headers=credentials)\n",
    "    assert(response.status_code==200)\n",
    "    bills = response.json()\n",
    "    bills_100[i] = bills"
   ]
  },
  {
   "cell_type": "code",
   "execution_count": 58,
   "metadata": {},
   "outputs": [
    {
     "name": "stdout",
     "output_type": "stream",
     "text": [
      "{\n",
      "    \"active\": true,\n",
      "    \"bill_id\": \"hr945-116\",\n",
      "    \"bill_slug\": \"hr945\",\n",
      "    \"bill_type\": \"hr\",\n",
      "    \"bill_uri\": \"https://api.propublica.org/congress/v1/116/bills/hr945.json\",\n",
      "    \"committee_codes\": [],\n",
      "    \"committees\": \"House Energy and Commerce Committee\",\n",
      "    \"congressdotgov_url\": \"https://www.congress.gov/bill/116th-congress/house-bill/945\",\n",
      "    \"cosponsors\": 120,\n",
      "    \"cosponsors_by_party\": {\n",
      "        \"D\": 96,\n",
      "        \"R\": 24\n",
      "    },\n",
      "    \"enacted\": null,\n",
      "    \"govtrack_url\": \"https://www.govtrack.us/congress/bills/116/hr945\",\n",
      "    \"gpo_pdf_uri\": null,\n",
      "    \"house_passage\": null,\n",
      "    \"introduced_date\": \"2019-01-31\",\n",
      "    \"last_vote\": null,\n",
      "    \"latest_major_action\": \"Ordered to be Reported (Amended) by Voice Vote.\",\n",
      "    \"latest_major_action_date\": \"2020-09-09\",\n",
      "    \"number\": \"H.R.945\",\n",
      "    \"primary_subject\": \"Health\",\n",
      "    \"senate_passage\": null,\n",
      "    \"short_title\": \"Mental Health Access Improvement Act of 2019\",\n",
      "    \"sponsor_id\": \"T000460\",\n",
      "    \"sponsor_name\": \"Mike Thompson\",\n",
      "    \"sponsor_party\": \"D\",\n",
      "    \"sponsor_state\": \"CA\",\n",
      "    \"sponsor_title\": \"Rep.\",\n",
      "    \"sponsor_uri\": \"https://api.propublica.org/congress/v1/members/T000460.json\",\n",
      "    \"subcommittee_codes\": [],\n",
      "    \"summary\": \"Mental Health Access Improvement Act of 2019 This bill provides for coverage of marriage and family therapist services and mental health counselor services under Medicare. It also excludes such services from the skilled nursing facility prospective payment\\u00a0system, and authorizes marriage and family therapists and mental health counselors to develop discharge plans for post-hospital services. \",\n",
      "    \"summary_short\": \"Mental Health Access Improvement Act of 2019 This bill provides for coverage of marriage and family therapist services and mental health counselor services under Medicare. It also excludes such services from the skilled nursing facility prospective payment\\u00a0system, and authorizes marriage and family therapists and mental health counselors to develop discharge plans for post-hospital services. \",\n",
      "    \"title\": \"To amend title XVIII of the Social Security Act to provide for the coverage of marriage and family therapist services and mental health counselor services under part B of the Medicare program, and for other purposes.\",\n",
      "    \"vetoed\": null\n",
      "}\n"
     ]
    }
   ],
   "source": [
    "bills_100[0]['results'][0]"
   ]
  },
  {
   "cell_type": "code",
   "execution_count": null,
   "metadata": {},
   "outputs": [],
   "source": [
    "with open(\"ProPublica_Members-Bills.pkl\", \"wb\") as file:\n",
    "    pickle.dump(bills_100, file)"
   ]
  }
 ],
 "metadata": {
  "kernelspec": {
   "display_name": "Python 3",
   "language": "python",
   "name": "python3"
  },
  "language_info": {
   "codemirror_mode": {
    "name": "ipython",
    "version": 3
   },
   "file_extension": ".py",
   "mimetype": "text/x-python",
   "name": "python",
   "nbconvert_exporter": "python",
   "pygments_lexer": "ipython3",
   "version": "3.7.4"
  }
 },
 "nbformat": 4,
 "nbformat_minor": 2
}
