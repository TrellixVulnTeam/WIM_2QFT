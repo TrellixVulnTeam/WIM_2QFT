{
 "cells": [
  {
   "cell_type": "markdown",
   "metadata": {},
   "source": [
    "## WIM Python Textmining workshop: 2020-10-22\n",
    "### Helge Marahrens (hmarahre@iu.edu)\n",
    "### Part 1: Basic String Manipulation"
   ]
  },
  {
   "cell_type": "code",
   "execution_count": 1,
   "metadata": {},
   "outputs": [
    {
     "name": "stderr",
     "output_type": "stream",
     "text": [
      "C:\\Users\\H_Mar\\Anaconda3\\lib\\site-packages\\fuzzywuzzy\\fuzz.py:11: UserWarning: Using slow pure-python SequenceMatcher. Install python-Levenshtein to remove this warning\n",
      "  warnings.warn('Using slow pure-python SequenceMatcher. Install python-Levenshtein to remove this warning')\n"
     ]
    }
   ],
   "source": [
    "# // import packages\n",
    "from nltk import word_tokenize\n",
    "from nltk.corpus import stopwords\n",
    "from fuzzywuzzy import fuzz\n",
    "from collections import Counter, defaultdict\n",
    "from itertools import combinations \n",
    "\n",
    "import pandas as pd\n",
    "import numpy as np\n",
    "import matplotlib.pyplot as plt"
   ]
  },
  {
   "cell_type": "code",
   "execution_count": 2,
   "metadata": {},
   "outputs": [],
   "source": [
    "# string basics\n",
    "string_1 = 'Hello, '         #   create a new string\n",
    "string_2 = 'world.'"
   ]
  },
  {
   "cell_type": "code",
   "execution_count": 3,
   "metadata": {},
   "outputs": [],
   "source": [
    "# lists are ordered sequences of items e.g., strings.\n",
    "list_1 = [string_1, string_2]"
   ]
  },
  {
   "cell_type": "code",
   "execution_count": 4,
   "metadata": {},
   "outputs": [
    {
     "name": "stdout",
     "output_type": "stream",
     "text": [
      "Hello, \n",
      "['world.', 'How are you?']\n"
     ]
    }
   ],
   "source": [
    "# lists can be accessed via indexing and slicing\n",
    "print(list_1[0])\n",
    "list_1.append(\"How are you?\")\n",
    "print(list_1[1:])"
   ]
  },
  {
   "cell_type": "code",
   "execution_count": 5,
   "metadata": {},
   "outputs": [
    {
     "name": "stdout",
     "output_type": "stream",
     "text": [
      "0: Hello, \n",
      "1: world.\n",
      "2: How are you?\n"
     ]
    }
   ],
   "source": [
    "for i, string in enumerate(list_1):\n",
    "    print(str(i) + \": \" + string)"
   ]
  },
  {
   "cell_type": "code",
   "execution_count": 6,
   "metadata": {},
   "outputs": [
    {
     "name": "stdout",
     "output_type": "stream",
     "text": [
      "0: H\n",
      "1: e\n",
      "2: l\n",
      "3: l\n",
      "4: o\n",
      "5: ,\n",
      "6:  \n"
     ]
    }
   ],
   "source": [
    "# strings are ordered sequences of letters\n",
    "for i, letter in enumerate(string_1):\n",
    "    print(str(i) + \": \" + letter)"
   ]
  },
  {
   "cell_type": "code",
   "execution_count": 7,
   "metadata": {},
   "outputs": [
    {
     "name": "stdout",
     "output_type": "stream",
     "text": [
      "7\n"
     ]
    }
   ],
   "source": [
    "# just like lists, strings are of a particular length \n",
    "print(len(string_1))"
   ]
  },
  {
   "cell_type": "code",
   "execution_count": 8,
   "metadata": {},
   "outputs": [
    {
     "name": "stdout",
     "output_type": "stream",
     "text": [
      "hello, \n",
      "False\n",
      "Hello,\n",
      "False\n",
      "World.\n",
      "WORLD.\n"
     ]
    }
   ],
   "source": [
    "# case sensitive\n",
    "print(string_1.lower())\n",
    "print(string_1.lower() == string_1)\n",
    "print(string_1.strip(\" \"))\n",
    "print(string_1.strip(\" \") == string_1)\n",
    "print(string_2.capitalize())\n",
    "print(string_2.upper())"
   ]
  },
  {
   "cell_type": "code",
   "execution_count": 9,
   "metadata": {},
   "outputs": [
    {
     "name": "stdout",
     "output_type": "stream",
     "text": [
      "Counter({'l': 2, 'H': 1, 'e': 1, 'o': 1, ',': 1, ' ': 1})\n"
     ]
    }
   ],
   "source": [
    "# Counter objects count how often a particular\n",
    "# item appears in a sequence\n",
    "print(Counter(string_1))"
   ]
  },
  {
   "cell_type": "code",
   "execution_count": 10,
   "metadata": {},
   "outputs": [
    {
     "name": "stdout",
     "output_type": "stream",
     "text": [
      "Hello, world.\n"
     ]
    }
   ],
   "source": [
    "# concetenate strings\n",
    "print(string_1 + string_2)"
   ]
  },
  {
   "cell_type": "code",
   "execution_count": 11,
   "metadata": {},
   "outputs": [
    {
     "data": {
      "text/html": [
       "<div>\n",
       "<style scoped>\n",
       "    .dataframe tbody tr th:only-of-type {\n",
       "        vertical-align: middle;\n",
       "    }\n",
       "\n",
       "    .dataframe tbody tr th {\n",
       "        vertical-align: top;\n",
       "    }\n",
       "\n",
       "    .dataframe thead th {\n",
       "        text-align: right;\n",
       "    }\n",
       "</style>\n",
       "<table border=\"1\" class=\"dataframe\">\n",
       "  <thead>\n",
       "    <tr style=\"text-align: right;\">\n",
       "      <th></th>\n",
       "      <th>eternal sunshine</th>\n",
       "      <th>eternal sunshine of the spotless mind</th>\n",
       "      <th>eternal sunshine of a spotless mind</th>\n",
       "      <th>eternalsunshine of the spotless mind</th>\n",
       "      <th>the eternal sunshine of the spotless mind</th>\n",
       "      <th>eternal sunshine on the spotless mind</th>\n",
       "      <th>o brother where art thou</th>\n",
       "      <th>o brother , where art thou?</th>\n",
       "      <th>oh brother where art thou</th>\n",
       "    </tr>\n",
       "  </thead>\n",
       "  <tbody>\n",
       "    <tr>\n",
       "      <td>eternal sunshine</td>\n",
       "      <td></td>\n",
       "      <td></td>\n",
       "      <td></td>\n",
       "      <td></td>\n",
       "      <td></td>\n",
       "      <td></td>\n",
       "      <td></td>\n",
       "      <td></td>\n",
       "      <td></td>\n",
       "    </tr>\n",
       "    <tr>\n",
       "      <td>eternal sunshine of the spotless mind</td>\n",
       "      <td></td>\n",
       "      <td></td>\n",
       "      <td></td>\n",
       "      <td></td>\n",
       "      <td></td>\n",
       "      <td></td>\n",
       "      <td></td>\n",
       "      <td></td>\n",
       "      <td></td>\n",
       "    </tr>\n",
       "    <tr>\n",
       "      <td>eternal sunshine of a spotless mind</td>\n",
       "      <td></td>\n",
       "      <td></td>\n",
       "      <td></td>\n",
       "      <td></td>\n",
       "      <td></td>\n",
       "      <td></td>\n",
       "      <td></td>\n",
       "      <td></td>\n",
       "      <td></td>\n",
       "    </tr>\n",
       "    <tr>\n",
       "      <td>eternalsunshine of the spotless mind</td>\n",
       "      <td></td>\n",
       "      <td></td>\n",
       "      <td></td>\n",
       "      <td></td>\n",
       "      <td></td>\n",
       "      <td></td>\n",
       "      <td></td>\n",
       "      <td></td>\n",
       "      <td></td>\n",
       "    </tr>\n",
       "    <tr>\n",
       "      <td>the eternal sunshine of the spotless mind</td>\n",
       "      <td></td>\n",
       "      <td></td>\n",
       "      <td></td>\n",
       "      <td></td>\n",
       "      <td></td>\n",
       "      <td></td>\n",
       "      <td></td>\n",
       "      <td></td>\n",
       "      <td></td>\n",
       "    </tr>\n",
       "  </tbody>\n",
       "</table>\n",
       "</div>"
      ],
      "text/plain": [
       "                                          eternal sunshine  \\\n",
       "eternal sunshine                                             \n",
       "eternal sunshine of the spotless mind                        \n",
       "eternal sunshine of a spotless mind                          \n",
       "eternalsunshine of the spotless mind                         \n",
       "the eternal sunshine of the spotless mind                    \n",
       "\n",
       "                                          eternal sunshine of the spotless mind  \\\n",
       "eternal sunshine                                                                  \n",
       "eternal sunshine of the spotless mind                                             \n",
       "eternal sunshine of a spotless mind                                               \n",
       "eternalsunshine of the spotless mind                                              \n",
       "the eternal sunshine of the spotless mind                                         \n",
       "\n",
       "                                          eternal sunshine of a spotless mind  \\\n",
       "eternal sunshine                                                                \n",
       "eternal sunshine of the spotless mind                                           \n",
       "eternal sunshine of a spotless mind                                             \n",
       "eternalsunshine of the spotless mind                                            \n",
       "the eternal sunshine of the spotless mind                                       \n",
       "\n",
       "                                          eternalsunshine of the spotless mind  \\\n",
       "eternal sunshine                                                                 \n",
       "eternal sunshine of the spotless mind                                            \n",
       "eternal sunshine of a spotless mind                                              \n",
       "eternalsunshine of the spotless mind                                             \n",
       "the eternal sunshine of the spotless mind                                        \n",
       "\n",
       "                                          the eternal sunshine of the spotless mind  \\\n",
       "eternal sunshine                                                                      \n",
       "eternal sunshine of the spotless mind                                                 \n",
       "eternal sunshine of a spotless mind                                                   \n",
       "eternalsunshine of the spotless mind                                                  \n",
       "the eternal sunshine of the spotless mind                                             \n",
       "\n",
       "                                          eternal sunshine on the spotless mind  \\\n",
       "eternal sunshine                                                                  \n",
       "eternal sunshine of the spotless mind                                             \n",
       "eternal sunshine of a spotless mind                                               \n",
       "eternalsunshine of the spotless mind                                              \n",
       "the eternal sunshine of the spotless mind                                         \n",
       "\n",
       "                                          o brother where art thou  \\\n",
       "eternal sunshine                                                     \n",
       "eternal sunshine of the spotless mind                                \n",
       "eternal sunshine of a spotless mind                                  \n",
       "eternalsunshine of the spotless mind                                 \n",
       "the eternal sunshine of the spotless mind                            \n",
       "\n",
       "                                          o brother , where art thou?  \\\n",
       "eternal sunshine                                                        \n",
       "eternal sunshine of the spotless mind                                   \n",
       "eternal sunshine of a spotless mind                                     \n",
       "eternalsunshine of the spotless mind                                    \n",
       "the eternal sunshine of the spotless mind                               \n",
       "\n",
       "                                          oh brother where art thou  \n",
       "eternal sunshine                                                     \n",
       "eternal sunshine of the spotless mind                                \n",
       "eternal sunshine of a spotless mind                                  \n",
       "eternalsunshine of the spotless mind                                 \n",
       "the eternal sunshine of the spotless mind                            "
      ]
     },
     "execution_count": 11,
     "metadata": {},
     "output_type": "execute_result"
    }
   ],
   "source": [
    "# fuzzy string matching\n",
    "# films to compare\n",
    "films = ['eternal sunshine',\n",
    " 'eternal sunshine of the spotless mind',\n",
    " 'eternal sunshine of a spotless mind',\n",
    " 'eternalsunshine of the spotless mind',\n",
    " 'the eternal sunshine of the spotless mind',\n",
    " 'eternal sunshine on the spotless mind',\n",
    " 'o brother where art thou',\n",
    " 'o brother , where art thou?',\n",
    " 'oh brother where art thou']\n",
    "\n",
    "# creaete comparison dataframe\n",
    "comp_df = pd.DataFrame(\"\", index=films, columns=films)\n",
    "comp_df.head()"
   ]
  },
  {
   "cell_type": "code",
   "execution_count": 12,
   "metadata": {},
   "outputs": [
    {
     "data": {
      "text/html": [
       "<div>\n",
       "<style scoped>\n",
       "    .dataframe tbody tr th:only-of-type {\n",
       "        vertical-align: middle;\n",
       "    }\n",
       "\n",
       "    .dataframe tbody tr th {\n",
       "        vertical-align: top;\n",
       "    }\n",
       "\n",
       "    .dataframe thead th {\n",
       "        text-align: right;\n",
       "    }\n",
       "</style>\n",
       "<table border=\"1\" class=\"dataframe\">\n",
       "  <thead>\n",
       "    <tr style=\"text-align: right;\">\n",
       "      <th></th>\n",
       "      <th>eternal sunshine</th>\n",
       "      <th>eternal sunshine of the spotless mind</th>\n",
       "      <th>eternal sunshine of a spotless mind</th>\n",
       "      <th>eternalsunshine of the spotless mind</th>\n",
       "      <th>the eternal sunshine of the spotless mind</th>\n",
       "      <th>eternal sunshine on the spotless mind</th>\n",
       "      <th>o brother where art thou</th>\n",
       "      <th>o brother , where art thou?</th>\n",
       "      <th>oh brother where art thou</th>\n",
       "    </tr>\n",
       "  </thead>\n",
       "  <tbody>\n",
       "    <tr>\n",
       "      <td>eternal sunshine</td>\n",
       "      <td></td>\n",
       "      <td></td>\n",
       "      <td></td>\n",
       "      <td></td>\n",
       "      <td></td>\n",
       "      <td></td>\n",
       "      <td></td>\n",
       "      <td></td>\n",
       "      <td></td>\n",
       "    </tr>\n",
       "    <tr>\n",
       "      <td>eternal sunshine of the spotless mind</td>\n",
       "      <td>0</td>\n",
       "      <td></td>\n",
       "      <td></td>\n",
       "      <td></td>\n",
       "      <td></td>\n",
       "      <td></td>\n",
       "      <td></td>\n",
       "      <td></td>\n",
       "      <td></td>\n",
       "    </tr>\n",
       "    <tr>\n",
       "      <td>eternal sunshine of a spotless mind</td>\n",
       "      <td>0</td>\n",
       "      <td>0</td>\n",
       "      <td></td>\n",
       "      <td></td>\n",
       "      <td></td>\n",
       "      <td></td>\n",
       "      <td></td>\n",
       "      <td></td>\n",
       "      <td></td>\n",
       "    </tr>\n",
       "    <tr>\n",
       "      <td>eternalsunshine of the spotless mind</td>\n",
       "      <td>0</td>\n",
       "      <td>0</td>\n",
       "      <td>0</td>\n",
       "      <td></td>\n",
       "      <td></td>\n",
       "      <td></td>\n",
       "      <td></td>\n",
       "      <td></td>\n",
       "      <td></td>\n",
       "    </tr>\n",
       "    <tr>\n",
       "      <td>the eternal sunshine of the spotless mind</td>\n",
       "      <td>0</td>\n",
       "      <td>0</td>\n",
       "      <td>0</td>\n",
       "      <td>0</td>\n",
       "      <td></td>\n",
       "      <td></td>\n",
       "      <td></td>\n",
       "      <td></td>\n",
       "      <td></td>\n",
       "    </tr>\n",
       "  </tbody>\n",
       "</table>\n",
       "</div>"
      ],
      "text/plain": [
       "                                          eternal sunshine  \\\n",
       "eternal sunshine                                             \n",
       "eternal sunshine of the spotless mind                    0   \n",
       "eternal sunshine of a spotless mind                      0   \n",
       "eternalsunshine of the spotless mind                     0   \n",
       "the eternal sunshine of the spotless mind                0   \n",
       "\n",
       "                                          eternal sunshine of the spotless mind  \\\n",
       "eternal sunshine                                                                  \n",
       "eternal sunshine of the spotless mind                                             \n",
       "eternal sunshine of a spotless mind                                           0   \n",
       "eternalsunshine of the spotless mind                                          0   \n",
       "the eternal sunshine of the spotless mind                                     0   \n",
       "\n",
       "                                          eternal sunshine of a spotless mind  \\\n",
       "eternal sunshine                                                                \n",
       "eternal sunshine of the spotless mind                                           \n",
       "eternal sunshine of a spotless mind                                             \n",
       "eternalsunshine of the spotless mind                                        0   \n",
       "the eternal sunshine of the spotless mind                                   0   \n",
       "\n",
       "                                          eternalsunshine of the spotless mind  \\\n",
       "eternal sunshine                                                                 \n",
       "eternal sunshine of the spotless mind                                            \n",
       "eternal sunshine of a spotless mind                                              \n",
       "eternalsunshine of the spotless mind                                             \n",
       "the eternal sunshine of the spotless mind                                    0   \n",
       "\n",
       "                                          the eternal sunshine of the spotless mind  \\\n",
       "eternal sunshine                                                                      \n",
       "eternal sunshine of the spotless mind                                                 \n",
       "eternal sunshine of a spotless mind                                                   \n",
       "eternalsunshine of the spotless mind                                                  \n",
       "the eternal sunshine of the spotless mind                                             \n",
       "\n",
       "                                          eternal sunshine on the spotless mind  \\\n",
       "eternal sunshine                                                                  \n",
       "eternal sunshine of the spotless mind                                             \n",
       "eternal sunshine of a spotless mind                                               \n",
       "eternalsunshine of the spotless mind                                              \n",
       "the eternal sunshine of the spotless mind                                         \n",
       "\n",
       "                                          o brother where art thou  \\\n",
       "eternal sunshine                                                     \n",
       "eternal sunshine of the spotless mind                                \n",
       "eternal sunshine of a spotless mind                                  \n",
       "eternalsunshine of the spotless mind                                 \n",
       "the eternal sunshine of the spotless mind                            \n",
       "\n",
       "                                          o brother , where art thou?  \\\n",
       "eternal sunshine                                                        \n",
       "eternal sunshine of the spotless mind                                   \n",
       "eternal sunshine of a spotless mind                                     \n",
       "eternalsunshine of the spotless mind                                    \n",
       "the eternal sunshine of the spotless mind                               \n",
       "\n",
       "                                          oh brother where art thou  \n",
       "eternal sunshine                                                     \n",
       "eternal sunshine of the spotless mind                                \n",
       "eternal sunshine of a spotless mind                                  \n",
       "eternalsunshine of the spotless mind                                 \n",
       "the eternal sunshine of the spotless mind                            "
      ]
     },
     "execution_count": 12,
     "metadata": {},
     "output_type": "execute_result"
    }
   ],
   "source": [
    "# find the exact similarity between films\n",
    "comb = list(combinations(films, 2))\n",
    "for comparison in comb:\n",
    "    similarity = int(comparison[0] == comparison[1])\n",
    "    comp_df.loc[comparison[1], comparison[0]] = similarity\n",
    "    \n",
    "comp_df.head()"
   ]
  },
  {
   "cell_type": "code",
   "execution_count": 13,
   "metadata": {},
   "outputs": [
    {
     "data": {
      "text/html": [
       "<div>\n",
       "<style scoped>\n",
       "    .dataframe tbody tr th:only-of-type {\n",
       "        vertical-align: middle;\n",
       "    }\n",
       "\n",
       "    .dataframe tbody tr th {\n",
       "        vertical-align: top;\n",
       "    }\n",
       "\n",
       "    .dataframe thead th {\n",
       "        text-align: right;\n",
       "    }\n",
       "</style>\n",
       "<table border=\"1\" class=\"dataframe\">\n",
       "  <thead>\n",
       "    <tr style=\"text-align: right;\">\n",
       "      <th></th>\n",
       "      <th>eternal sunshine</th>\n",
       "      <th>eternal sunshine of the spotless mind</th>\n",
       "      <th>eternal sunshine of a spotless mind</th>\n",
       "      <th>eternalsunshine of the spotless mind</th>\n",
       "      <th>the eternal sunshine of the spotless mind</th>\n",
       "      <th>eternal sunshine on the spotless mind</th>\n",
       "      <th>o brother where art thou</th>\n",
       "      <th>o brother , where art thou?</th>\n",
       "      <th>oh brother where art thou</th>\n",
       "    </tr>\n",
       "  </thead>\n",
       "  <tbody>\n",
       "    <tr>\n",
       "      <td>eternal sunshine</td>\n",
       "      <td></td>\n",
       "      <td></td>\n",
       "      <td></td>\n",
       "      <td></td>\n",
       "      <td></td>\n",
       "      <td></td>\n",
       "      <td></td>\n",
       "      <td></td>\n",
       "      <td></td>\n",
       "    </tr>\n",
       "    <tr>\n",
       "      <td>eternal sunshine of the spotless mind</td>\n",
       "      <td>60</td>\n",
       "      <td></td>\n",
       "      <td></td>\n",
       "      <td></td>\n",
       "      <td></td>\n",
       "      <td></td>\n",
       "      <td></td>\n",
       "      <td></td>\n",
       "      <td></td>\n",
       "    </tr>\n",
       "    <tr>\n",
       "      <td>eternal sunshine of a spotless mind</td>\n",
       "      <td>63</td>\n",
       "      <td>94</td>\n",
       "      <td></td>\n",
       "      <td></td>\n",
       "      <td></td>\n",
       "      <td></td>\n",
       "      <td></td>\n",
       "      <td></td>\n",
       "      <td></td>\n",
       "    </tr>\n",
       "    <tr>\n",
       "      <td>eternalsunshine of the spotless mind</td>\n",
       "      <td>58</td>\n",
       "      <td>99</td>\n",
       "      <td>93</td>\n",
       "      <td></td>\n",
       "      <td></td>\n",
       "      <td></td>\n",
       "      <td></td>\n",
       "      <td></td>\n",
       "      <td></td>\n",
       "    </tr>\n",
       "    <tr>\n",
       "      <td>the eternal sunshine of the spotless mind</td>\n",
       "      <td>56</td>\n",
       "      <td>95</td>\n",
       "      <td>89</td>\n",
       "      <td>94</td>\n",
       "      <td></td>\n",
       "      <td></td>\n",
       "      <td></td>\n",
       "      <td></td>\n",
       "      <td></td>\n",
       "    </tr>\n",
       "    <tr>\n",
       "      <td>eternal sunshine on the spotless mind</td>\n",
       "      <td>60</td>\n",
       "      <td>97</td>\n",
       "      <td>92</td>\n",
       "      <td>96</td>\n",
       "      <td>92</td>\n",
       "      <td></td>\n",
       "      <td></td>\n",
       "      <td></td>\n",
       "      <td></td>\n",
       "    </tr>\n",
       "    <tr>\n",
       "      <td>o brother where art thou</td>\n",
       "      <td>30</td>\n",
       "      <td>36</td>\n",
       "      <td>27</td>\n",
       "      <td>33</td>\n",
       "      <td>37</td>\n",
       "      <td>36</td>\n",
       "      <td></td>\n",
       "      <td></td>\n",
       "      <td></td>\n",
       "    </tr>\n",
       "    <tr>\n",
       "      <td>o brother , where art thou?</td>\n",
       "      <td>28</td>\n",
       "      <td>34</td>\n",
       "      <td>26</td>\n",
       "      <td>32</td>\n",
       "      <td>35</td>\n",
       "      <td>34</td>\n",
       "      <td>94</td>\n",
       "      <td></td>\n",
       "      <td></td>\n",
       "    </tr>\n",
       "    <tr>\n",
       "      <td>oh brother where art thou</td>\n",
       "      <td>29</td>\n",
       "      <td>35</td>\n",
       "      <td>27</td>\n",
       "      <td>33</td>\n",
       "      <td>36</td>\n",
       "      <td>35</td>\n",
       "      <td>98</td>\n",
       "      <td>92</td>\n",
       "      <td></td>\n",
       "    </tr>\n",
       "  </tbody>\n",
       "</table>\n",
       "</div>"
      ],
      "text/plain": [
       "                                          eternal sunshine  \\\n",
       "eternal sunshine                                             \n",
       "eternal sunshine of the spotless mind                   60   \n",
       "eternal sunshine of a spotless mind                     63   \n",
       "eternalsunshine of the spotless mind                    58   \n",
       "the eternal sunshine of the spotless mind               56   \n",
       "eternal sunshine on the spotless mind                   60   \n",
       "o brother where art thou                                30   \n",
       "o brother , where art thou?                             28   \n",
       "oh brother where art thou                               29   \n",
       "\n",
       "                                          eternal sunshine of the spotless mind  \\\n",
       "eternal sunshine                                                                  \n",
       "eternal sunshine of the spotless mind                                             \n",
       "eternal sunshine of a spotless mind                                          94   \n",
       "eternalsunshine of the spotless mind                                         99   \n",
       "the eternal sunshine of the spotless mind                                    95   \n",
       "eternal sunshine on the spotless mind                                        97   \n",
       "o brother where art thou                                                     36   \n",
       "o brother , where art thou?                                                  34   \n",
       "oh brother where art thou                                                    35   \n",
       "\n",
       "                                          eternal sunshine of a spotless mind  \\\n",
       "eternal sunshine                                                                \n",
       "eternal sunshine of the spotless mind                                           \n",
       "eternal sunshine of a spotless mind                                             \n",
       "eternalsunshine of the spotless mind                                       93   \n",
       "the eternal sunshine of the spotless mind                                  89   \n",
       "eternal sunshine on the spotless mind                                      92   \n",
       "o brother where art thou                                                   27   \n",
       "o brother , where art thou?                                                26   \n",
       "oh brother where art thou                                                  27   \n",
       "\n",
       "                                          eternalsunshine of the spotless mind  \\\n",
       "eternal sunshine                                                                 \n",
       "eternal sunshine of the spotless mind                                            \n",
       "eternal sunshine of a spotless mind                                              \n",
       "eternalsunshine of the spotless mind                                             \n",
       "the eternal sunshine of the spotless mind                                   94   \n",
       "eternal sunshine on the spotless mind                                       96   \n",
       "o brother where art thou                                                    33   \n",
       "o brother , where art thou?                                                 32   \n",
       "oh brother where art thou                                                   33   \n",
       "\n",
       "                                          the eternal sunshine of the spotless mind  \\\n",
       "eternal sunshine                                                                      \n",
       "eternal sunshine of the spotless mind                                                 \n",
       "eternal sunshine of a spotless mind                                                   \n",
       "eternalsunshine of the spotless mind                                                  \n",
       "the eternal sunshine of the spotless mind                                             \n",
       "eternal sunshine on the spotless mind                                            92   \n",
       "o brother where art thou                                                         37   \n",
       "o brother , where art thou?                                                      35   \n",
       "oh brother where art thou                                                        36   \n",
       "\n",
       "                                          eternal sunshine on the spotless mind  \\\n",
       "eternal sunshine                                                                  \n",
       "eternal sunshine of the spotless mind                                             \n",
       "eternal sunshine of a spotless mind                                               \n",
       "eternalsunshine of the spotless mind                                              \n",
       "the eternal sunshine of the spotless mind                                         \n",
       "eternal sunshine on the spotless mind                                             \n",
       "o brother where art thou                                                     36   \n",
       "o brother , where art thou?                                                  34   \n",
       "oh brother where art thou                                                    35   \n",
       "\n",
       "                                          o brother where art thou  \\\n",
       "eternal sunshine                                                     \n",
       "eternal sunshine of the spotless mind                                \n",
       "eternal sunshine of a spotless mind                                  \n",
       "eternalsunshine of the spotless mind                                 \n",
       "the eternal sunshine of the spotless mind                            \n",
       "eternal sunshine on the spotless mind                                \n",
       "o brother where art thou                                             \n",
       "o brother , where art thou?                                     94   \n",
       "oh brother where art thou                                       98   \n",
       "\n",
       "                                          o brother , where art thou?  \\\n",
       "eternal sunshine                                                        \n",
       "eternal sunshine of the spotless mind                                   \n",
       "eternal sunshine of a spotless mind                                     \n",
       "eternalsunshine of the spotless mind                                    \n",
       "the eternal sunshine of the spotless mind                               \n",
       "eternal sunshine on the spotless mind                                   \n",
       "o brother where art thou                                                \n",
       "o brother , where art thou?                                             \n",
       "oh brother where art thou                                          92   \n",
       "\n",
       "                                          oh brother where art thou  \n",
       "eternal sunshine                                                     \n",
       "eternal sunshine of the spotless mind                                \n",
       "eternal sunshine of a spotless mind                                  \n",
       "eternalsunshine of the spotless mind                                 \n",
       "the eternal sunshine of the spotless mind                            \n",
       "eternal sunshine on the spotless mind                                \n",
       "o brother where art thou                                             \n",
       "o brother , where art thou?                                          \n",
       "oh brother where art thou                                            "
      ]
     },
     "execution_count": 13,
     "metadata": {},
     "output_type": "execute_result"
    }
   ],
   "source": [
    "# fuzzy string matching\n",
    "fuzz.ratio(\"this is a test\", \"this is a test!\")\n",
    "\n",
    "# find the exact similarity between films\n",
    "for comparison in combinations(films, 2):\n",
    "    similarity = fuzz.ratio(comparison[0], comparison[1])\n",
    "    comp_df.loc[comparison[1], comparison[0]] = similarity\n",
    "    \n",
    "comp_df"
   ]
  },
  {
   "cell_type": "markdown",
   "metadata": {},
   "source": [
    "### Part 2: Regular Expressions"
   ]
  },
  {
   "cell_type": "code",
   "execution_count": 14,
   "metadata": {},
   "outputs": [],
   "source": [
    "# // import packages\n",
    "import re\n",
    "from collections import Counter\n",
    "from nltk.tokenize import sent_tokenize, word_tokenize\n",
    "import pandas as pd"
   ]
  },
  {
   "cell_type": "code",
   "execution_count": 15,
   "metadata": {},
   "outputs": [
    {
     "data": {
      "text/plain": [
       "['How', 'are', 'you', '?']"
      ]
     },
     "execution_count": 15,
     "metadata": {},
     "output_type": "execute_result"
    }
   ],
   "source": [
    "# tokenize\n",
    "word_tokenize(\"How are you?\")"
   ]
  },
  {
   "cell_type": "code",
   "execution_count": 16,
   "metadata": {},
   "outputs": [
    {
     "name": "stdout",
     "output_type": "stream",
     "text": [
      "['Voting for the 91st Academy Awards ends on Tuesday', ' Roughly 8,200 movie industry insiders use a private website to mark their choices', ' Just what goes through their minds when they point and click', '']\n"
     ]
    }
   ],
   "source": [
    "# regular expression to match the ending of sentences\n",
    "sentence_endings = r\"[.?!]\"\n",
    "sent_1 = \"Voting for the 91st Academy Awards ends on Tuesday.\"\n",
    "sent_2 = \"Roughly 8,200 movie industry insiders use a private website to mark their choices.\"\n",
    "sent_3 = \"Just what goes through their minds when they point and click?\"\n",
    "\n",
    "sent_con = sent_1 + \" \" + sent_2 + \" \" + sent_3\n",
    "print(re.split(sentence_endings, sent_con))"
   ]
  },
  {
   "cell_type": "code",
   "execution_count": 17,
   "metadata": {},
   "outputs": [
    {
     "name": "stdout",
     "output_type": "stream",
     "text": [
      "['Voting', 'Academy', 'Awards', 'Tuesday', 'Roughly', 'Just']\n"
     ]
    }
   ],
   "source": [
    "# regular expression to match capitalized words\n",
    "capitalized_words = r\"[A-Z]\\w+\"\n",
    "print(re.findall(capitalized_words, sent_con))"
   ]
  },
  {
   "cell_type": "code",
   "execution_count": 18,
   "metadata": {},
   "outputs": [
    {
     "name": "stdout",
     "output_type": "stream",
     "text": [
      "['Voting', 'for', 'the', '91st', 'Academy', 'Awards', 'ends', 'on', 'Tuesday.', 'Roughly', '8,200', 'movie', 'industry', 'insiders', 'use', 'a', 'private', 'website', 'to', 'mark', 'their', 'choices.', 'Just', 'what', 'goes', 'through', 'their', 'minds', 'when', 'they', 'point', 'and', 'click?']\n"
     ]
    }
   ],
   "source": [
    "# regular expression to split strings on whitespace\n",
    "spaces = r\"[\\s]+\"\n",
    "print(re.split(spaces, sent_con))\n",
    "my_tokens = [token.lower() for token in re.split(spaces, sent_con)\\\n",
    "             if token not in \"\"]"
   ]
  },
  {
   "cell_type": "code",
   "execution_count": 19,
   "metadata": {},
   "outputs": [
    {
     "name": "stdout",
     "output_type": "stream",
     "text": [
      "['91', '8', '200']\n",
      "['91', '8,200']\n"
     ]
    }
   ],
   "source": [
    "# regular expression to split strings on digits\n",
    "digits = r\"[\\d]+\"\n",
    "print(re.findall(digits, sent_con))\n",
    "\n",
    "digits = r\"[\\d]+[,]*[\\d]*\"\n",
    "print(re.findall(digits, sent_con))"
   ]
  },
  {
   "cell_type": "code",
   "execution_count": 20,
   "metadata": {},
   "outputs": [
    {
     "name": "stdout",
     "output_type": "stream",
     "text": [
      "['voting', 'for', 'the', '91st', 'academy', 'awards', 'ends', 'on', 'tuesday.', 'roughly', '8,200', 'movie', 'industry', 'insiders', 'use', 'a', 'private', 'website', 'to', 'mark', 'their', 'choices.', 'just', 'what', 'goes', 'through', 'their', 'minds', 'when', 'they', 'point', 'and', 'click?']\n",
      "{'the', '91st', 'Tuesday', 'Academy', '?', 'point', 'their', 'website', 'when', 'and', 'industry', 'Roughly', 'movie', 'mark', 'through', 'Awards', 'private', 'minds', 'Voting', 'they', 'on', 'a', 'for', 'to', '.', 'choices', 'use', 'click', '8,200', 'Just', 'ends', 'what', 'insiders', 'goes'}\n",
      "Counter({'.': 2, 'their': 2, 'Voting': 1, 'for': 1, 'the': 1, '91st': 1, 'Academy': 1, 'Awards': 1, 'ends': 1, 'on': 1, 'Tuesday': 1, 'Roughly': 1, '8,200': 1, 'movie': 1, 'industry': 1, 'insiders': 1, 'use': 1, 'a': 1, 'private': 1, 'website': 1, 'to': 1, 'mark': 1, 'choices': 1, 'Just': 1, 'what': 1, 'goes': 1, 'through': 1, 'minds': 1, 'when': 1, 'they': 1, 'point': 1, 'and': 1, 'click': 1, '?': 1})\n",
      "[('.', 2), ('their', 2), ('Voting', 1)]\n"
     ]
    }
   ],
   "source": [
    "# tokenization\n",
    "print(my_tokens)\n",
    "tokens = word_tokenize(sent_con)\n",
    "unique_tokens = set(tokens)\n",
    "print(unique_tokens)\n",
    "print(Counter(tokens))\n",
    "print(Counter(tokens).most_common(3))\n",
    "sentences = sent_tokenize(sent_con)"
   ]
  },
  {
   "cell_type": "code",
   "execution_count": 21,
   "metadata": {},
   "outputs": [
    {
     "data": {
      "text/plain": [
       "'C:\\\\Users\\\\H_Mar'"
      ]
     },
     "execution_count": 21,
     "metadata": {},
     "output_type": "execute_result"
    }
   ],
   "source": [
    "# find working directory\n",
    "import os\n",
    "os.getcwd()"
   ]
  },
  {
   "cell_type": "code",
   "execution_count": 22,
   "metadata": {},
   "outputs": [
    {
     "data": {
      "text/html": [
       "<div>\n",
       "<style scoped>\n",
       "    .dataframe tbody tr th:only-of-type {\n",
       "        vertical-align: middle;\n",
       "    }\n",
       "\n",
       "    .dataframe tbody tr th {\n",
       "        vertical-align: top;\n",
       "    }\n",
       "\n",
       "    .dataframe thead th {\n",
       "        text-align: right;\n",
       "    }\n",
       "</style>\n",
       "<table border=\"1\" class=\"dataframe\">\n",
       "  <thead>\n",
       "    <tr style=\"text-align: right;\">\n",
       "      <th></th>\n",
       "      <th>city</th>\n",
       "      <th>latlon</th>\n",
       "    </tr>\n",
       "  </thead>\n",
       "  <tbody>\n",
       "    <tr>\n",
       "      <td>0</td>\n",
       "      <td>Fairless Hills (USA, PA)</td>\n",
       "      <td>('40.17888889000000318674210575409233570098876...</td>\n",
       "    </tr>\n",
       "    <tr>\n",
       "      <td>1</td>\n",
       "      <td>Blacktown (Australia)</td>\n",
       "      <td>('-33.7711111099999996554288372863084077835083...</td>\n",
       "    </tr>\n",
       "    <tr>\n",
       "      <td>2</td>\n",
       "      <td>Winter Park (USA, FL)</td>\n",
       "      <td>('28.59611110999999894488610152620822191238403...</td>\n",
       "    </tr>\n",
       "    <tr>\n",
       "      <td>3</td>\n",
       "      <td>Ajman (United Arab Emirates)</td>\n",
       "      <td>('25.41361111000000150283995026256889104843139...</td>\n",
       "    </tr>\n",
       "    <tr>\n",
       "      <td>4</td>\n",
       "      <td>Medicine Hat (Canada)</td>\n",
       "      <td>('50.04166666999999790732545079663395881652832...</td>\n",
       "    </tr>\n",
       "  </tbody>\n",
       "</table>\n",
       "</div>"
      ],
      "text/plain": [
       "                           city  \\\n",
       "0      Fairless Hills (USA, PA)   \n",
       "1         Blacktown (Australia)   \n",
       "2         Winter Park (USA, FL)   \n",
       "3  Ajman (United Arab Emirates)   \n",
       "4         Medicine Hat (Canada)   \n",
       "\n",
       "                                              latlon  \n",
       "0  ('40.17888889000000318674210575409233570098876...  \n",
       "1  ('-33.7711111099999996554288372863084077835083...  \n",
       "2  ('28.59611110999999894488610152620822191238403...  \n",
       "3  ('25.41361111000000150283995026256889104843139...  \n",
       "4  ('50.04166666999999790732545079663395881652832...  "
      ]
     },
     "execution_count": 22,
     "metadata": {},
     "output_type": "execute_result"
    }
   ],
   "source": [
    "# cities dataset\n",
    "path = \"\" # your working directory\n",
    "          # e.g. C:/Users/username/Desktop/2020-02-14/Text Mining\n",
    "          # important: use forward slashes: /\n",
    "#os.chdir(path)\n",
    "city_df = pd.read_csv('cities.csv')\n",
    "city_df.head()"
   ]
  },
  {
   "cell_type": "code",
   "execution_count": 23,
   "metadata": {},
   "outputs": [],
   "source": [
    "# regular expressions to match inside parentheses\n",
    "matcher_USA = re.compile(r'\\(USA,\\s*(.*)\\)')\n",
    "matcher_other = re.compile(r'\\((.*)\\)')"
   ]
  },
  {
   "cell_type": "code",
   "execution_count": 24,
   "metadata": {},
   "outputs": [
    {
     "name": "stdout",
     "output_type": "stream",
     "text": [
      "['Fairless Hills (USA, PA)', 'Blacktown (Australia)']\n"
     ]
    },
    {
     "data": {
      "text/plain": [
       "<_sre.SRE_Match object; span=(15, 24), match='(USA, PA)'>"
      ]
     },
     "execution_count": 24,
     "metadata": {},
     "output_type": "execute_result"
    }
   ],
   "source": [
    "# test city\n",
    "test_cities = city_df.iloc[0:2,0].tolist()\n",
    "test_cities\n",
    "print(test_cities)\n",
    "matcher_USA.search(test_cities[0])"
   ]
  },
  {
   "cell_type": "code",
   "execution_count": 25,
   "metadata": {},
   "outputs": [
    {
     "name": "stdout",
     "output_type": "stream",
     "text": [
      "None\n"
     ]
    }
   ],
   "source": [
    "print(matcher_USA.search(test_cities[1]))"
   ]
  },
  {
   "cell_type": "code",
   "execution_count": 26,
   "metadata": {},
   "outputs": [
    {
     "name": "stdout",
     "output_type": "stream",
     "text": [
      "<_sre.SRE_Match object; span=(10, 21), match='(Australia)'>\n",
      "(Australia)\n"
     ]
    }
   ],
   "source": [
    "print(matcher_other.search(test_cities[1]))\n",
    "print(matcher_other.search(test_cities[1]).group(0))"
   ]
  },
  {
   "cell_type": "code",
   "execution_count": 27,
   "metadata": {},
   "outputs": [],
   "source": [
    "# define function to pull country from city name\n",
    "    # country is in parentheses\n",
    "def find_country(city_name):\n",
    "    if matcher_USA.search(city_name) != None:\n",
    "        country = 'USA'\n",
    "    else:\n",
    "        country = matcher_other.search(city_name).\\\n",
    "                     group(0)[1:-1]\n",
    "    return country"
   ]
  },
  {
   "cell_type": "code",
   "execution_count": 28,
   "metadata": {},
   "outputs": [
    {
     "data": {
      "text/html": [
       "<div>\n",
       "<style scoped>\n",
       "    .dataframe tbody tr th:only-of-type {\n",
       "        vertical-align: middle;\n",
       "    }\n",
       "\n",
       "    .dataframe tbody tr th {\n",
       "        vertical-align: top;\n",
       "    }\n",
       "\n",
       "    .dataframe thead th {\n",
       "        text-align: right;\n",
       "    }\n",
       "</style>\n",
       "<table border=\"1\" class=\"dataframe\">\n",
       "  <thead>\n",
       "    <tr style=\"text-align: right;\">\n",
       "      <th></th>\n",
       "      <th>city</th>\n",
       "      <th>country</th>\n",
       "    </tr>\n",
       "  </thead>\n",
       "  <tbody>\n",
       "    <tr>\n",
       "      <td>0</td>\n",
       "      <td>Fairless Hills (USA, PA)</td>\n",
       "      <td>USA</td>\n",
       "    </tr>\n",
       "    <tr>\n",
       "      <td>1</td>\n",
       "      <td>Blacktown (Australia)</td>\n",
       "      <td>Australia</td>\n",
       "    </tr>\n",
       "    <tr>\n",
       "      <td>2</td>\n",
       "      <td>Winter Park (USA, FL)</td>\n",
       "      <td>USA</td>\n",
       "    </tr>\n",
       "    <tr>\n",
       "      <td>3</td>\n",
       "      <td>Ajman (United Arab Emirates)</td>\n",
       "      <td>United Arab Emirates</td>\n",
       "    </tr>\n",
       "    <tr>\n",
       "      <td>4</td>\n",
       "      <td>Medicine Hat (Canada)</td>\n",
       "      <td>Canada</td>\n",
       "    </tr>\n",
       "  </tbody>\n",
       "</table>\n",
       "</div>"
      ],
      "text/plain": [
       "                           city               country\n",
       "0      Fairless Hills (USA, PA)                   USA\n",
       "1         Blacktown (Australia)             Australia\n",
       "2         Winter Park (USA, FL)                   USA\n",
       "3  Ajman (United Arab Emirates)  United Arab Emirates\n",
       "4         Medicine Hat (Canada)                Canada"
      ]
     },
     "execution_count": 28,
     "metadata": {},
     "output_type": "execute_result"
    }
   ],
   "source": [
    "# apply function to city column\n",
    "city_df['country'] = city_df['city'].apply(find_country)\n",
    "city_df.loc[:,['city','country']].head()"
   ]
  },
  {
   "cell_type": "code",
   "execution_count": 29,
   "metadata": {},
   "outputs": [
    {
     "data": {
      "text/plain": [
       "USA               60\n",
       "Germany           16\n",
       "France            14\n",
       "Japan             13\n",
       "United Kingdom     9\n",
       "Canada             6\n",
       "Netherlands        6\n",
       "Switzerland        4\n",
       "Australia          4\n",
       "Ireland            3\n",
       "Name: country, dtype: int64"
      ]
     },
     "execution_count": 29,
     "metadata": {},
     "output_type": "execute_result"
    }
   ],
   "source": [
    "# what is the frequency of each country in the sample?\n",
    "city_df['country'].value_counts().head(10)"
   ]
  },
  {
   "cell_type": "markdown",
   "metadata": {},
   "source": [
    "### Part 3: Sentiment Analysis"
   ]
  },
  {
   "cell_type": "code",
   "execution_count": 30,
   "metadata": {},
   "outputs": [],
   "source": [
    "# // import packages\n",
    "import pandas as pd\n",
    "from glob import glob\n",
    "import re\n",
    "from nltk import word_tokenize\n",
    "from collections import defaultdict\n",
    "from nltk.corpus import stopwords\n",
    "from nltk.stem import PorterStemmer\n",
    "from sklearn.feature_extraction.text import TfidfVectorizer\n",
    "from sklearn.decomposition import NMF"
   ]
  },
  {
   "cell_type": "code",
   "execution_count": 31,
   "metadata": {},
   "outputs": [],
   "source": [
    "# this code goes into the working directory and grabs all filenames\n",
    "# ending with \"txt\"\n",
    "extension = \"txt\"\n",
    "film_files = [i for i in glob(\"films/\" + '*.{}'.format(extension))]"
   ]
  },
  {
   "cell_type": "code",
   "execution_count": 32,
   "metadata": {},
   "outputs": [
    {
     "data": {
      "text/plain": [
       "['films\\\\10 Things I Hate About You.txt',\n",
       " 'Comedy',\n",
       " 'Comedy, Drama, Romance',\n",
       " \"A pretty, popular teenager can't go out on a date until her ill-tempered older sister does.\"]"
      ]
     },
     "execution_count": 32,
     "metadata": {},
     "output_type": "execute_result"
    }
   ],
   "source": [
    "# loop through the .txt files and add their content\n",
    "# to a dictionary\n",
    "film_dict = defaultdict(list)\n",
    "for i, film_file in enumerate(film_files):\n",
    "    with open(film_file, 'r') as document:\n",
    "        content = document.readlines()\n",
    "        film_dict[i] =\\\n",
    "            [film_file,\n",
    "             content[0].strip(\"\\n\"),\n",
    "             content[4].strip(\"\\n\"),\n",
    "             content[8].strip(\"\\n\")]\n",
    "film_dict[0]"
   ]
  },
  {
   "cell_type": "code",
   "execution_count": 33,
   "metadata": {},
   "outputs": [
    {
     "data": {
      "text/html": [
       "<div>\n",
       "<style scoped>\n",
       "    .dataframe tbody tr th:only-of-type {\n",
       "        vertical-align: middle;\n",
       "    }\n",
       "\n",
       "    .dataframe tbody tr th {\n",
       "        vertical-align: top;\n",
       "    }\n",
       "\n",
       "    .dataframe thead th {\n",
       "        text-align: right;\n",
       "    }\n",
       "</style>\n",
       "<table border=\"1\" class=\"dataframe\">\n",
       "  <thead>\n",
       "    <tr style=\"text-align: right;\">\n",
       "      <th></th>\n",
       "      <th>file</th>\n",
       "      <th>genre</th>\n",
       "      <th>genre_full</th>\n",
       "      <th>plot</th>\n",
       "    </tr>\n",
       "  </thead>\n",
       "  <tbody>\n",
       "    <tr>\n",
       "      <td>0</td>\n",
       "      <td>films\\10 Things I Hate About You.txt</td>\n",
       "      <td>Comedy</td>\n",
       "      <td>Comedy, Drama, Romance</td>\n",
       "      <td>A pretty, popular teenager can't go out on a d...</td>\n",
       "    </tr>\n",
       "    <tr>\n",
       "      <td>1</td>\n",
       "      <td>films\\24 Hour Party People.txt</td>\n",
       "      <td>Comedy</td>\n",
       "      <td>Biography, Comedy, Drama</td>\n",
       "      <td>In 1976, Tony Wilson sets up Factory Records a...</td>\n",
       "    </tr>\n",
       "    <tr>\n",
       "      <td>2</td>\n",
       "      <td>films\\300.txt</td>\n",
       "      <td>Action</td>\n",
       "      <td>Action, Fantasy</td>\n",
       "      <td>King Leonidas of Sparta and a force of 300 men...</td>\n",
       "    </tr>\n",
       "    <tr>\n",
       "      <td>3</td>\n",
       "      <td>films\\50 First Dates.txt</td>\n",
       "      <td>Comedy</td>\n",
       "      <td>Comedy, Drama, Romance</td>\n",
       "      <td>Henry Roth is a man afraid of commitment up un...</td>\n",
       "    </tr>\n",
       "    <tr>\n",
       "      <td>4</td>\n",
       "      <td>films\\500 Days of Summer.txt</td>\n",
       "      <td>Comedy</td>\n",
       "      <td>Comedy, Drama, Romance</td>\n",
       "      <td>An offbeat romantic comedy about a woman who d...</td>\n",
       "    </tr>\n",
       "  </tbody>\n",
       "</table>\n",
       "</div>"
      ],
      "text/plain": [
       "                                   file   genre                genre_full  \\\n",
       "0  films\\10 Things I Hate About You.txt  Comedy    Comedy, Drama, Romance   \n",
       "1        films\\24 Hour Party People.txt  Comedy  Biography, Comedy, Drama   \n",
       "2                         films\\300.txt  Action           Action, Fantasy   \n",
       "3              films\\50 First Dates.txt  Comedy    Comedy, Drama, Romance   \n",
       "4          films\\500 Days of Summer.txt  Comedy    Comedy, Drama, Romance   \n",
       "\n",
       "                                                plot  \n",
       "0  A pretty, popular teenager can't go out on a d...  \n",
       "1  In 1976, Tony Wilson sets up Factory Records a...  \n",
       "2  King Leonidas of Sparta and a force of 300 men...  \n",
       "3  Henry Roth is a man afraid of commitment up un...  \n",
       "4  An offbeat romantic comedy about a woman who d...  "
      ]
     },
     "execution_count": 33,
     "metadata": {},
     "output_type": "execute_result"
    }
   ],
   "source": [
    "# create dataframe\n",
    "plot_df = pd.DataFrame.from_dict(film_dict,\n",
    "                    orient='index',\n",
    "                    columns = ['file', 'genre', 'genre_full', 'plot'])\n",
    "plot_df.head()"
   ]
  },
  {
   "cell_type": "code",
   "execution_count": 34,
   "metadata": {},
   "outputs": [
    {
     "name": "stdout",
     "output_type": "stream",
     "text": [
      "            word  score\n",
      "1   breathtaking      5\n",
      "2         hurrah      5\n",
      "3    outstanding      5\n",
      "4         superb      5\n",
      "5       thrilled      5\n",
      "6        amazing      4\n",
      "7        awesome      4\n",
      "8      brilliant      4\n",
      "9       ecstatic      4\n",
      "10      euphoric      4\n"
     ]
    }
   ],
   "source": [
    "# sentiment analysis\n",
    "\n",
    "# we will use the AFIN dictionary\n",
    "# Nielsen 2011 - A new ANEW. Evaluation of a word list for\n",
    "#                sentiment analysis in microblogs\n",
    "AFIN = pd.read_csv(path + \"AFIN.csv\", index_col=0)\n",
    "print(AFIN.head(10))"
   ]
  },
  {
   "cell_type": "code",
   "execution_count": 35,
   "metadata": {},
   "outputs": [],
   "source": [
    "# the sentiment analysis\n",
    "def sentiment(text):\n",
    "    raw = 0\n",
    "    nr_sent_words = 0\n",
    "    sentiment_score = 0\n",
    "    list_of_words = []\n",
    "    \n",
    "    clean_text = text.lower()\n",
    "    clean_text = word_tokenize(clean_text)\n",
    "    for word in clean_text:\n",
    "        if word in AFIN['word'].to_list():\n",
    "            nr_sent_words += 1\n",
    "            raw += AFIN.loc[AFIN['word'] == word, 'score'].values[0]\n",
    "    if nr_sent_words != 0:\n",
    "        sentiment_score = raw/nr_sent_words\n",
    "    return sentiment_score"
   ]
  },
  {
   "cell_type": "code",
   "execution_count": 36,
   "metadata": {},
   "outputs": [
    {
     "data": {
      "text/plain": [
       "4.5"
      ]
     },
     "execution_count": 36,
     "metadata": {},
     "output_type": "execute_result"
    }
   ],
   "source": [
    "# positive sentiment\n",
    "sentiment(\"Awesome! I am thrilled that it's Friday.\")"
   ]
  },
  {
   "cell_type": "code",
   "execution_count": 37,
   "metadata": {},
   "outputs": [
    {
     "data": {
      "text/html": [
       "<div>\n",
       "<style scoped>\n",
       "    .dataframe tbody tr th:only-of-type {\n",
       "        vertical-align: middle;\n",
       "    }\n",
       "\n",
       "    .dataframe tbody tr th {\n",
       "        vertical-align: top;\n",
       "    }\n",
       "\n",
       "    .dataframe thead th {\n",
       "        text-align: right;\n",
       "    }\n",
       "</style>\n",
       "<table border=\"1\" class=\"dataframe\">\n",
       "  <thead>\n",
       "    <tr style=\"text-align: right;\">\n",
       "      <th></th>\n",
       "      <th>count</th>\n",
       "      <th>mean</th>\n",
       "      <th>std</th>\n",
       "      <th>min</th>\n",
       "      <th>25%</th>\n",
       "      <th>50%</th>\n",
       "      <th>75%</th>\n",
       "      <th>max</th>\n",
       "    </tr>\n",
       "    <tr>\n",
       "      <th>genre</th>\n",
       "      <th></th>\n",
       "      <th></th>\n",
       "      <th></th>\n",
       "      <th></th>\n",
       "      <th></th>\n",
       "      <th></th>\n",
       "      <th></th>\n",
       "      <th></th>\n",
       "    </tr>\n",
       "  </thead>\n",
       "  <tbody>\n",
       "    <tr>\n",
       "      <td>Action</td>\n",
       "      <td>144.0</td>\n",
       "      <td>-0.40</td>\n",
       "      <td>1.57</td>\n",
       "      <td>-3.0</td>\n",
       "      <td>-1.62</td>\n",
       "      <td>0.0</td>\n",
       "      <td>0.5</td>\n",
       "      <td>4.0</td>\n",
       "    </tr>\n",
       "    <tr>\n",
       "      <td>Comedy</td>\n",
       "      <td>534.0</td>\n",
       "      <td>0.03</td>\n",
       "      <td>1.47</td>\n",
       "      <td>-3.0</td>\n",
       "      <td>-1.00</td>\n",
       "      <td>0.0</td>\n",
       "      <td>1.0</td>\n",
       "      <td>3.0</td>\n",
       "    </tr>\n",
       "  </tbody>\n",
       "</table>\n",
       "</div>"
      ],
      "text/plain": [
       "        count  mean   std  min   25%  50%  75%  max\n",
       "genre                                              \n",
       "Action  144.0 -0.40  1.57 -3.0 -1.62  0.0  0.5  4.0\n",
       "Comedy  534.0  0.03  1.47 -3.0 -1.00  0.0  1.0  3.0"
      ]
     },
     "execution_count": 37,
     "metadata": {},
     "output_type": "execute_result"
    }
   ],
   "source": [
    "# find sentiment in plots\n",
    "plot_df['polarity'] = plot_df['plot'].apply(sentiment)\n",
    "\n",
    "\n",
    "# summarize sentiment by genre\n",
    "plot_df.groupby('genre').polarity.describe().round(2)"
   ]
  },
  {
   "cell_type": "code",
   "execution_count": 38,
   "metadata": {},
   "outputs": [
    {
     "data": {
      "text/html": [
       "<div>\n",
       "<style scoped>\n",
       "    .dataframe tbody tr th:only-of-type {\n",
       "        vertical-align: middle;\n",
       "    }\n",
       "\n",
       "    .dataframe tbody tr th {\n",
       "        vertical-align: top;\n",
       "    }\n",
       "\n",
       "    .dataframe thead th {\n",
       "        text-align: right;\n",
       "    }\n",
       "</style>\n",
       "<table border=\"1\" class=\"dataframe\">\n",
       "  <thead>\n",
       "    <tr style=\"text-align: right;\">\n",
       "      <th></th>\n",
       "      <th>file</th>\n",
       "      <th>genre</th>\n",
       "      <th>genre_full</th>\n",
       "      <th>plot</th>\n",
       "      <th>polarity</th>\n",
       "    </tr>\n",
       "  </thead>\n",
       "  <tbody>\n",
       "    <tr>\n",
       "      <td>391</td>\n",
       "      <td>films\\Raiders of the Lost Ark.txt</td>\n",
       "      <td>Action</td>\n",
       "      <td>Action, Adventure</td>\n",
       "      <td>In 1936, archaeologist and adventurer Indiana ...</td>\n",
       "      <td>4.0</td>\n",
       "    </tr>\n",
       "    <tr>\n",
       "      <td>372</td>\n",
       "      <td>films\\Pirate Radio.txt</td>\n",
       "      <td>Comedy</td>\n",
       "      <td>Comedy, Drama, Music</td>\n",
       "      <td>A band of rogue DJs that captivated Britain, p...</td>\n",
       "      <td>3.0</td>\n",
       "    </tr>\n",
       "    <tr>\n",
       "      <td>639</td>\n",
       "      <td>films\\Vuxna människor.txt</td>\n",
       "      <td>Comedy</td>\n",
       "      <td>Comedy</td>\n",
       "      <td>Frank leads a respectable yuppie life working ...</td>\n",
       "      <td>3.0</td>\n",
       "    </tr>\n",
       "    <tr>\n",
       "      <td>560</td>\n",
       "      <td>films\\The Match.txt</td>\n",
       "      <td>Comedy</td>\n",
       "      <td>Comedy, Romance, Sport</td>\n",
       "      <td>Two Scottish pub football teams play each othe...</td>\n",
       "      <td>3.0</td>\n",
       "    </tr>\n",
       "    <tr>\n",
       "      <td>365</td>\n",
       "      <td>films\\Paris, je t'aime.txt</td>\n",
       "      <td>Comedy</td>\n",
       "      <td>Comedy, Drama, Romance</td>\n",
       "      <td>Through the neighborhoods of Paris, love is ve...</td>\n",
       "      <td>3.0</td>\n",
       "    </tr>\n",
       "    <tr>\n",
       "      <td>635</td>\n",
       "      <td>films\\Up.txt</td>\n",
       "      <td>Comedy</td>\n",
       "      <td>Animation, Adventure, Comedy</td>\n",
       "      <td>Seventy-eight year old Carl Fredricksen travel...</td>\n",
       "      <td>3.0</td>\n",
       "    </tr>\n",
       "    <tr>\n",
       "      <td>165</td>\n",
       "      <td>films\\Dutch.txt</td>\n",
       "      <td>Comedy</td>\n",
       "      <td>Comedy, Drama</td>\n",
       "      <td>To get to know his girlfriend's son, a working...</td>\n",
       "      <td>3.0</td>\n",
       "    </tr>\n",
       "    <tr>\n",
       "      <td>574</td>\n",
       "      <td>films\\The Quiet Man.txt</td>\n",
       "      <td>Comedy</td>\n",
       "      <td>Comedy, Drama, Romance</td>\n",
       "      <td>A retired American boxer returns to the villag...</td>\n",
       "      <td>3.0</td>\n",
       "    </tr>\n",
       "    <tr>\n",
       "      <td>256</td>\n",
       "      <td>films\\I Love You, Man.txt</td>\n",
       "      <td>Comedy</td>\n",
       "      <td>Comedy, Romance</td>\n",
       "      <td>Friendless Peter Klaven goes on a series of ma...</td>\n",
       "      <td>3.0</td>\n",
       "    </tr>\n",
       "    <tr>\n",
       "      <td>470</td>\n",
       "      <td>films\\Superman.txt</td>\n",
       "      <td>Action</td>\n",
       "      <td>Action, Adventure, Drama</td>\n",
       "      <td>An alien orphan is sent from his dying planet ...</td>\n",
       "      <td>3.0</td>\n",
       "    </tr>\n",
       "  </tbody>\n",
       "</table>\n",
       "</div>"
      ],
      "text/plain": [
       "                                  file   genre                    genre_full  \\\n",
       "391  films\\Raiders of the Lost Ark.txt  Action             Action, Adventure   \n",
       "372             films\\Pirate Radio.txt  Comedy          Comedy, Drama, Music   \n",
       "639          films\\Vuxna människor.txt  Comedy                        Comedy   \n",
       "560                films\\The Match.txt  Comedy        Comedy, Romance, Sport   \n",
       "365         films\\Paris, je t'aime.txt  Comedy        Comedy, Drama, Romance   \n",
       "635                       films\\Up.txt  Comedy  Animation, Adventure, Comedy   \n",
       "165                    films\\Dutch.txt  Comedy                 Comedy, Drama   \n",
       "574            films\\The Quiet Man.txt  Comedy        Comedy, Drama, Romance   \n",
       "256          films\\I Love You, Man.txt  Comedy               Comedy, Romance   \n",
       "470                 films\\Superman.txt  Action      Action, Adventure, Drama   \n",
       "\n",
       "                                                  plot  polarity  \n",
       "391  In 1936, archaeologist and adventurer Indiana ...       4.0  \n",
       "372  A band of rogue DJs that captivated Britain, p...       3.0  \n",
       "639  Frank leads a respectable yuppie life working ...       3.0  \n",
       "560  Two Scottish pub football teams play each othe...       3.0  \n",
       "365  Through the neighborhoods of Paris, love is ve...       3.0  \n",
       "635  Seventy-eight year old Carl Fredricksen travel...       3.0  \n",
       "165  To get to know his girlfriend's son, a working...       3.0  \n",
       "574  A retired American boxer returns to the villag...       3.0  \n",
       "256  Friendless Peter Klaven goes on a series of ma...       3.0  \n",
       "470  An alien orphan is sent from his dying planet ...       3.0  "
      ]
     },
     "execution_count": 38,
     "metadata": {},
     "output_type": "execute_result"
    }
   ],
   "source": [
    "# find the most positive plot\n",
    "plot_df.sort_values('polarity', ascending=False, inplace=True)\n",
    "plot_df.head(10)"
   ]
  },
  {
   "cell_type": "code",
   "execution_count": 39,
   "metadata": {},
   "outputs": [
    {
     "data": {
      "text/plain": [
       "\"In 1936, archaeologist and adventurer Indiana Jones is hired by the U.S. government to find the Ark of the Covenant before Adolf Hitler's Nazis can obtain its awesome powers.\""
      ]
     },
     "execution_count": 39,
     "metadata": {},
     "output_type": "execute_result"
    }
   ],
   "source": [
    "plot_df.iloc[0,3]"
   ]
  },
  {
   "cell_type": "markdown",
   "metadata": {},
   "source": [
    "### Part 4: Dimension Reduction (Non-Negative Matrix Factorization)"
   ]
  },
  {
   "cell_type": "code",
   "execution_count": 40,
   "metadata": {},
   "outputs": [
    {
     "data": {
      "text/plain": [
       "['i', 'me', 'my', 'myself', 'we', 'our', 'ours', 'ourselves', 'you', \"you're\"]"
      ]
     },
     "execution_count": 40,
     "metadata": {},
     "output_type": "execute_result"
    }
   ],
   "source": [
    "# dimension reduction \n",
    "\n",
    "# create a function to clean text\n",
    "# part of cleaning the text is deleting stopwords\n",
    "sw_english = stopwords.words('english')\n",
    "sw_english[0:10]"
   ]
  },
  {
   "cell_type": "code",
   "execution_count": 41,
   "metadata": {},
   "outputs": [],
   "source": [
    "# another part is stemming words\n",
    "ps = PorterStemmer()"
   ]
  },
  {
   "cell_type": "code",
   "execution_count": 42,
   "metadata": {},
   "outputs": [],
   "source": [
    "# create clean_text function\n",
    "def clean_text(text):\n",
    "    clean_text = text.lower()\n",
    "    clean_text = re.sub(r'[,.:;?!&]', '', clean_text)\n",
    "    clean_text = word_tokenize(clean_text)\n",
    "    clean_text = [word for word in clean_text if word not in sw_english]\n",
    "    clean_text = [ps.stem(word) for word in clean_text]\n",
    "    return (clean_text)"
   ]
  },
  {
   "cell_type": "code",
   "execution_count": 43,
   "metadata": {},
   "outputs": [
    {
     "data": {
      "text/plain": [
       "['1936',\n",
       " 'archaeologist',\n",
       " 'adventur',\n",
       " 'indiana',\n",
       " 'jone',\n",
       " 'hire',\n",
       " 'us',\n",
       " 'govern',\n",
       " 'find',\n",
       " 'ark',\n",
       " 'coven',\n",
       " 'adolf',\n",
       " 'hitler',\n",
       " \"'s\",\n",
       " 'nazi',\n",
       " 'obtain',\n",
       " 'awesom',\n",
       " 'power']"
      ]
     },
     "execution_count": 43,
     "metadata": {},
     "output_type": "execute_result"
    }
   ],
   "source": [
    "test_string = plot_df.iloc[0,3]\n",
    "clean_text(test_string)"
   ]
  },
  {
   "cell_type": "code",
   "execution_count": 44,
   "metadata": {},
   "outputs": [
    {
     "name": "stdout",
     "output_type": "stream",
     "text": [
      "               0         1         2         3         4\n",
      "young   1.387347  0.000000  0.000000  0.000000  0.000000\n",
      "man     1.052714  0.000000  0.000000  0.000000  0.000000\n",
      "find    0.819016  0.000000  0.001052  0.010774  0.131421\n",
      "woman   0.621514  0.013349  0.000918  0.157279  0.000000\n",
      "help    0.436571  0.001183  0.000000  0.000000  0.081170\n",
      "...          ...       ...       ...       ...       ...\n",
      "howev   0.000000  0.000000  0.000000  0.041000  0.052952\n",
      "togeth  0.000000  0.030567  0.028754  0.017022  0.053647\n",
      "town    0.000000  0.000000  0.000000  0.000000  0.389313\n",
      "high    0.000000  0.000000  0.767298  0.000000  0.000000\n",
      "group   0.000000  0.000000  0.013122  0.037249  0.241250\n",
      "\n",
      "[284 rows x 5 columns]\n"
     ]
    }
   ],
   "source": [
    "# apply function to plot column\n",
    "plot_df['clean_text'] = plot_df['plot'].\\\n",
    "                        apply(lambda x: \" \".join(clean_text(x)))\n",
    "\n",
    "# term frequency - inverse document frequency\n",
    "tfidf_vectorizer = TfidfVectorizer(max_df=0.9,\n",
    "                                   min_df=0.01,\n",
    "                                   max_features=1000)\n",
    "tfidf_matrix = tfidf_vectorizer.fit_transform(plot_df['clean_text'])\n",
    "words = tfidf_vectorizer.get_feature_names()\n",
    "\n",
    "# set the number of components\n",
    "num_clusters = 5\n",
    "NMF_model = NMF(n_components = num_clusters)\n",
    "NMF_model.fit(tfidf_matrix)\n",
    "components_df = pd.DataFrame(NMF_model.components_,\n",
    "                             columns=words).\\\n",
    "                             transpose()\n",
    "\n",
    "# see terms associated with first component\n",
    "print(components_df.sort_values(0, ascending=False))"
   ]
  },
  {
   "cell_type": "code",
   "execution_count": 45,
   "metadata": {},
   "outputs": [
    {
     "name": "stdout",
     "output_type": "stream",
     "text": [
      "['young', 'man', 'find', 'woman', 'help']\n",
      "['life', 'famili', 'live', 'film', 'stori']\n",
      "['school', 'high', 'friend', 'student', 'year']\n",
      "['love', 'fall', 'new', 'york', 'citi']\n",
      "['two', 'tri', 'town', 'team', 'small']\n"
     ]
    }
   ],
   "source": [
    "# see terms associated with clusters\n",
    "for column in components_df.columns:\n",
    "    print(components_df.sort_values(column, ascending=False).index.tolist()[:5])"
   ]
  }
 ],
 "metadata": {
  "kernelspec": {
   "display_name": "Python 3",
   "language": "python",
   "name": "python3"
  },
  "language_info": {
   "codemirror_mode": {
    "name": "ipython",
    "version": 3
   },
   "file_extension": ".py",
   "mimetype": "text/x-python",
   "name": "python",
   "nbconvert_exporter": "python",
   "pygments_lexer": "ipython3",
   "version": "3.6.5"
  }
 },
 "nbformat": 4,
 "nbformat_minor": 2
}
